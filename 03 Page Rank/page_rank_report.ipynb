{
 "cells": [
  {
   "cell_type": "code",
   "execution_count": 2,
   "metadata": {},
   "outputs": [],
   "source": [
    "import numpy as np\n",
    "import pandas as pd"
   ]
  },
  {
   "cell_type": "markdown",
   "metadata": {},
   "source": [
    "### Pré-processando os dados"
   ]
  },
  {
   "cell_type": "markdown",
   "metadata": {},
   "source": [
    "Carregando os dados"
   ]
  },
  {
   "cell_type": "code",
   "execution_count": 3,
   "metadata": {},
   "outputs": [],
   "source": [
    "SOURCE, TARGET, RATING, TIME = 'source', 'target', 'rating', 'time'\n",
    "\n",
    "file_path = '../data/soc-sign-bitcoinotc.csv'\n",
    "data = pd.read_csv(file_path, names=[SOURCE, TARGET, RATING, TIME ])"
   ]
  },
  {
   "cell_type": "markdown",
   "metadata": {},
   "source": [
    "Filtrando por aqueles com Rating superior ou igual a 8:"
   ]
  },
  {
   "cell_type": "code",
   "execution_count": 4,
   "metadata": {},
   "outputs": [],
   "source": [
    "data = data.loc[(data[RATING] >= 8)]"
   ]
  },
  {
   "cell_type": "markdown",
   "metadata": {},
   "source": [
    "Desconsiderando a coluna de Tempo:"
   ]
  },
  {
   "cell_type": "code",
   "execution_count": 5,
   "metadata": {},
   "outputs": [],
   "source": [
    "data = data[[SOURCE, TARGET, RATING]]"
   ]
  },
  {
   "cell_type": "markdown",
   "metadata": {},
   "source": [
    "Normalizando a coluna Rating para os valores ficarem entre 0 e 1:"
   ]
  },
  {
   "cell_type": "code",
   "execution_count": 6,
   "metadata": {},
   "outputs": [],
   "source": [
    "data[RATING] = data[RATING].apply(lambda rate: rate / 10.0)"
   ]
  },
  {
   "cell_type": "markdown",
   "metadata": {},
   "source": [
    "Nossos dados têm a seguinte cara:"
   ]
  },
  {
   "cell_type": "code",
   "execution_count": 7,
   "metadata": {},
   "outputs": [
    {
     "data": {
      "text/html": [
       "<div>\n",
       "<style scoped>\n",
       "    .dataframe tbody tr th:only-of-type {\n",
       "        vertical-align: middle;\n",
       "    }\n",
       "\n",
       "    .dataframe tbody tr th {\n",
       "        vertical-align: top;\n",
       "    }\n",
       "\n",
       "    .dataframe thead th {\n",
       "        text-align: right;\n",
       "    }\n",
       "</style>\n",
       "<table border=\"1\" class=\"dataframe\">\n",
       "  <thead>\n",
       "    <tr style=\"text-align: right;\">\n",
       "      <th></th>\n",
       "      <th>source</th>\n",
       "      <th>target</th>\n",
       "      <th>rating</th>\n",
       "    </tr>\n",
       "  </thead>\n",
       "  <tbody>\n",
       "    <tr>\n",
       "      <th>4</th>\n",
       "      <td>13</td>\n",
       "      <td>16</td>\n",
       "      <td>0.8</td>\n",
       "    </tr>\n",
       "    <tr>\n",
       "      <th>5</th>\n",
       "      <td>13</td>\n",
       "      <td>10</td>\n",
       "      <td>0.8</td>\n",
       "    </tr>\n",
       "    <tr>\n",
       "      <th>10</th>\n",
       "      <td>21</td>\n",
       "      <td>1</td>\n",
       "      <td>0.8</td>\n",
       "    </tr>\n",
       "    <tr>\n",
       "      <th>11</th>\n",
       "      <td>21</td>\n",
       "      <td>10</td>\n",
       "      <td>0.8</td>\n",
       "    </tr>\n",
       "    <tr>\n",
       "      <th>12</th>\n",
       "      <td>21</td>\n",
       "      <td>8</td>\n",
       "      <td>0.9</td>\n",
       "    </tr>\n",
       "    <tr>\n",
       "      <th>16</th>\n",
       "      <td>10</td>\n",
       "      <td>1</td>\n",
       "      <td>0.8</td>\n",
       "    </tr>\n",
       "    <tr>\n",
       "      <th>18</th>\n",
       "      <td>10</td>\n",
       "      <td>21</td>\n",
       "      <td>0.8</td>\n",
       "    </tr>\n",
       "    <tr>\n",
       "      <th>20</th>\n",
       "      <td>10</td>\n",
       "      <td>25</td>\n",
       "      <td>1.0</td>\n",
       "    </tr>\n",
       "    <tr>\n",
       "      <th>41</th>\n",
       "      <td>13</td>\n",
       "      <td>1</td>\n",
       "      <td>0.8</td>\n",
       "    </tr>\n",
       "    <tr>\n",
       "      <th>52</th>\n",
       "      <td>1</td>\n",
       "      <td>17</td>\n",
       "      <td>0.9</td>\n",
       "    </tr>\n",
       "  </tbody>\n",
       "</table>\n",
       "</div>"
      ],
      "text/plain": [
       "    source  target  rating\n",
       "4       13      16     0.8\n",
       "5       13      10     0.8\n",
       "10      21       1     0.8\n",
       "11      21      10     0.8\n",
       "12      21       8     0.9\n",
       "16      10       1     0.8\n",
       "18      10      21     0.8\n",
       "20      10      25     1.0\n",
       "41      13       1     0.8\n",
       "52       1      17     0.9"
      ]
     },
     "execution_count": 7,
     "metadata": {},
     "output_type": "execute_result"
    }
   ],
   "source": [
    "data.head(10)"
   ]
  },
  {
   "cell_type": "markdown",
   "metadata": {},
   "source": [
    "Guardando a informação de para quantos nós um nó aponta (essa info será usada para construir a matriz de adjacência)"
   ]
  },
  {
   "cell_type": "code",
   "execution_count": 8,
   "metadata": {},
   "outputs": [],
   "source": [
    "n_pointing_to = dict()\n",
    "for source, group_itens in data.groupby([SOURCE]):\n",
    "    n_pointing_to[source] = len(group_itens)"
   ]
  },
  {
   "cell_type": "markdown",
   "metadata": {},
   "source": [
    "Lista ordenada com todos os nós:"
   ]
  },
  {
   "cell_type": "code",
   "execution_count": 9,
   "metadata": {},
   "outputs": [],
   "source": [
    "nodes = sorted(list(set(data.source.append(data.target))))"
   ]
  },
  {
   "cell_type": "markdown",
   "metadata": {},
   "source": [
    "Construindo matrix de adjacência:"
   ]
  },
  {
   "cell_type": "code",
   "execution_count": 10,
   "metadata": {},
   "outputs": [],
   "source": [
    "adjacency_matrix = pd.DataFrame(columns=nodes)\n",
    "\n",
    "for source in nodes:\n",
    "    filtered_by_source = data.loc[(data.source == source)]\n",
    "    target_list, rating_list = filtered_by_source.target, filtered_by_source.rating\n",
    "    \n",
    "    adjacency_matrix_source_row = [0] * len(nodes)\n",
    "    for t, r in zip(target_list, rating_list):\n",
    "        target_index = nodes.index(t)\n",
    "        adjacency_matrix_source_row[target_index] = r / n_pointing_to[source]\n",
    "    \n",
    "    adjacency_matrix.loc[source] = adjacency_matrix_source_row\n",
    "\n",
    "adjacency_matrix = adjacency_matrix.transpose()"
   ]
  },
  {
   "cell_type": "markdown",
   "metadata": {},
   "source": [
    "### PageRank"
   ]
  },
  {
   "cell_type": "code",
   "execution_count": 11,
   "metadata": {},
   "outputs": [],
   "source": [
    "teleportation_factor = 0.15"
   ]
  },
  {
   "cell_type": "code",
   "execution_count": 12,
   "metadata": {},
   "outputs": [],
   "source": [
    "B = (teleportation_factor / len(nodes)) * np.matrix([[1] * len(nodes) for i in range(len(nodes))])"
   ]
  },
  {
   "cell_type": "code",
   "execution_count": 13,
   "metadata": {},
   "outputs": [],
   "source": [
    "M = ((1 - teleportation_factor) * adjacency_matrix.values) + B"
   ]
  },
  {
   "cell_type": "code",
   "execution_count": 14,
   "metadata": {},
   "outputs": [],
   "source": [
    "page_rank_vector = (1/len(nodes)) * np.matrix([[1] for i in range(len(nodes))])"
   ]
  },
  {
   "cell_type": "code",
   "execution_count": 15,
   "metadata": {},
   "outputs": [],
   "source": [
    "def pagerank(page_rank_vector, curr_iter):\n",
    "    \n",
    "    diff_between_iterations = sum(abs(M * page_rank_vector - page_rank_vector))\n",
    "    will_converge = diff_between_iterations < 0.001\n",
    "    \n",
    "    print('Number of currently iteration:', curr_iter)\n",
    "    print('Diff of page rank vector between iterations:', diff_between_iterations, '\\n')\n",
    "    \n",
    "    if not will_converge:\n",
    "        return pagerank(M * page_rank_vector, curr_iter + 1)\n",
    "    else:\n",
    "        print('Converged!')\n",
    "        return M * page_rank_vector"
   ]
  },
  {
   "cell_type": "code",
   "execution_count": 16,
   "metadata": {},
   "outputs": [
    {
     "name": "stdout",
     "output_type": "stream",
     "text": [
      "Number of currently iteration: 1\n",
      "Diff of page rank vector between iterations: [[0.6617727]] \n",
      "\n",
      "Number of currently iteration: 2\n",
      "Diff of page rank vector between iterations: [[0.36270756]] \n",
      "\n",
      "Number of currently iteration: 3\n",
      "Diff of page rank vector between iterations: [[0.16347109]] \n",
      "\n",
      "Number of currently iteration: 4\n",
      "Diff of page rank vector between iterations: [[0.10193408]] \n",
      "\n",
      "Number of currently iteration: 5\n",
      "Diff of page rank vector between iterations: [[0.07076079]] \n",
      "\n",
      "Number of currently iteration: 6\n",
      "Diff of page rank vector between iterations: [[0.05212454]] \n",
      "\n",
      "Number of currently iteration: 7\n",
      "Diff of page rank vector between iterations: [[0.03942961]] \n",
      "\n",
      "Number of currently iteration: 8\n",
      "Diff of page rank vector between iterations: [[0.03089666]] \n",
      "\n",
      "Number of currently iteration: 9\n",
      "Diff of page rank vector between iterations: [[0.02447621]] \n",
      "\n",
      "Number of currently iteration: 10\n",
      "Diff of page rank vector between iterations: [[0.01980965]] \n",
      "\n",
      "Number of currently iteration: 11\n",
      "Diff of page rank vector between iterations: [[0.01618737]] \n",
      "\n",
      "Number of currently iteration: 12\n",
      "Diff of page rank vector between iterations: [[0.01336734]] \n",
      "\n",
      "Number of currently iteration: 13\n",
      "Diff of page rank vector between iterations: [[0.01111071]] \n",
      "\n",
      "Number of currently iteration: 14\n",
      "Diff of page rank vector between iterations: [[0.00929128]] \n",
      "\n",
      "Number of currently iteration: 15\n",
      "Diff of page rank vector between iterations: [[0.00781589]] \n",
      "\n",
      "Number of currently iteration: 16\n",
      "Diff of page rank vector between iterations: [[0.00660894]] \n",
      "\n",
      "Number of currently iteration: 17\n",
      "Diff of page rank vector between iterations: [[0.00560828]] \n",
      "\n",
      "Number of currently iteration: 18\n",
      "Diff of page rank vector between iterations: [[0.0047775]] \n",
      "\n",
      "Number of currently iteration: 19\n",
      "Diff of page rank vector between iterations: [[0.00408155]] \n",
      "\n",
      "Number of currently iteration: 20\n",
      "Diff of page rank vector between iterations: [[0.0034972]] \n",
      "\n",
      "Number of currently iteration: 21\n",
      "Diff of page rank vector between iterations: [[0.00300329]] \n",
      "\n",
      "Number of currently iteration: 22\n",
      "Diff of page rank vector between iterations: [[0.00258501]] \n",
      "\n",
      "Number of currently iteration: 23\n",
      "Diff of page rank vector between iterations: [[0.00222881]] \n",
      "\n",
      "Number of currently iteration: 24\n",
      "Diff of page rank vector between iterations: [[0.00192516]] \n",
      "\n",
      "Number of currently iteration: 25\n",
      "Diff of page rank vector between iterations: [[0.00166501]] \n",
      "\n",
      "Number of currently iteration: 26\n",
      "Diff of page rank vector between iterations: [[0.0014421]] \n",
      "\n",
      "Number of currently iteration: 27\n",
      "Diff of page rank vector between iterations: [[0.0012502]] \n",
      "\n",
      "Number of currently iteration: 28\n",
      "Diff of page rank vector between iterations: [[0.00108512]] \n",
      "\n",
      "Number of currently iteration: 29\n",
      "Diff of page rank vector between iterations: [[0.00094288]] \n",
      "\n",
      "Converged!\n"
     ]
    }
   ],
   "source": [
    "result = pagerank(page_rank_vector, 1)"
   ]
  },
  {
   "cell_type": "markdown",
   "metadata": {},
   "source": [
    "### Exportando resultados para csv"
   ]
  },
  {
   "cell_type": "code",
   "execution_count": 20,
   "metadata": {},
   "outputs": [],
   "source": [
    "node_id_list = adjacency_matrix.index.tolist()jiiiiiiiiiiiiiiikl"
   ]
  },
  {
   "cell_type": "code",
   "execution_count": 21,
   "metadata": {},
   "outputs": [],
   "source": [
    "PR_INDEX = 0\n",
    "page_rank_list = list(map(lambda list_with_pr: list_with_pr[PR_INDEX], result.tolist()))"
   ]
  },
  {
   "cell_type": "code",
   "execution_count": 23,
   "metadata": {},
   "outputs": [],
   "source": [
    "nodes_dict = {'Id': node_id_list, 'Modularity Class': page_rank_list}"
   ]
  },
  {
   "cell_type": "code",
   "execution_count": 24,
   "metadata": {},
   "outputs": [],
   "source": [
    "nodes_dataframe = pd.DataFrame.from_dict(nodes_dict)"
   ]
  },
  {
   "cell_type": "code",
   "execution_count": 25,
   "metadata": {},
   "outputs": [
    {
     "data": {
      "text/html": [
       "<div>\n",
       "<style scoped>\n",
       "    .dataframe tbody tr th:only-of-type {\n",
       "        vertical-align: middle;\n",
       "    }\n",
       "\n",
       "    .dataframe tbody tr th {\n",
       "        vertical-align: top;\n",
       "    }\n",
       "\n",
       "    .dataframe thead th {\n",
       "        text-align: right;\n",
       "    }\n",
       "</style>\n",
       "<table border=\"1\" class=\"dataframe\">\n",
       "  <thead>\n",
       "    <tr style=\"text-align: right;\">\n",
       "      <th></th>\n",
       "      <th>Id</th>\n",
       "      <th>Modularity Class</th>\n",
       "    </tr>\n",
       "  </thead>\n",
       "  <tbody>\n",
       "    <tr>\n",
       "      <th>0</th>\n",
       "      <td>1</td>\n",
       "      <td>0.000082</td>\n",
       "    </tr>\n",
       "    <tr>\n",
       "      <th>1</th>\n",
       "      <td>2</td>\n",
       "      <td>0.000013</td>\n",
       "    </tr>\n",
       "    <tr>\n",
       "      <th>2</th>\n",
       "      <td>3</td>\n",
       "      <td>0.000002</td>\n",
       "    </tr>\n",
       "    <tr>\n",
       "      <th>3</th>\n",
       "      <td>4</td>\n",
       "      <td>0.000025</td>\n",
       "    </tr>\n",
       "    <tr>\n",
       "      <th>4</th>\n",
       "      <td>6</td>\n",
       "      <td>0.000007</td>\n",
       "    </tr>\n",
       "  </tbody>\n",
       "</table>\n",
       "</div>"
      ],
      "text/plain": [
       "   Id  Modularity Class\n",
       "0   1          0.000082\n",
       "1   2          0.000013\n",
       "2   3          0.000002\n",
       "3   4          0.000025\n",
       "4   6          0.000007"
      ]
     },
     "execution_count": 25,
     "metadata": {},
     "output_type": "execute_result"
    }
   ],
   "source": [
    "nodes_dataframe.head()"
   ]
  },
  {
   "cell_type": "code",
   "execution_count": 26,
   "metadata": {},
   "outputs": [],
   "source": [
    "nodes_dataframe.to_csv('result/nodes.csv', index=False)\n",
    "data.to_csv('result/edges.csv',  index=False)"
   ]
  },
  {
   "cell_type": "markdown",
   "metadata": {},
   "source": [
    "### Criando grafos com a ferramenta Gephi"
   ]
  },
  {
   "cell_type": "markdown",
   "metadata": {},
   "source": [
    "<img src=\"gephi_imgs/all.png\">"
   ]
  },
  {
   "cell_type": "markdown",
   "metadata": {},
   "source": [
    "Zoom em um nó específico (as cores das arestas na imagem abaixo representam o rating, em que quanto mais escuro o tom maior é rating):"
   ]
  },
  {
   "cell_type": "markdown",
   "metadata": {},
   "source": [
    "<img src=\"gephi_imgs/zoom.png\">"
   ]
  },
  {
   "cell_type": "markdown",
   "metadata": {},
   "source": [
    "### Perguntas"
   ]
  },
  {
   "cell_type": "markdown",
   "metadata": {},
   "source": [
    "#### Quantas iterações o PageRank precisou rodar até atingir convergência?\n",
    "- R: 29 iterações!"
   ]
  },
  {
   "cell_type": "markdown",
   "metadata": {},
   "source": [
    "#### Quais os 5 investidores mais importantes segundo o PageRank? Quais seus valores de PageRank?"
   ]
  },
  {
   "cell_type": "code",
   "execution_count": 58,
   "metadata": {},
   "outputs": [
    {
     "name": "stdout",
     "output_type": "stream",
     "text": [
      "PageRank  -  Investidor\n",
      "0.0001086         3996\n",
      "0.0001023          361\n",
      "0.0000824            1\n",
      "0.0000602          623\n",
      "0.0000539           25\n"
     ]
    }
   ],
   "source": [
    "print('PageRank', ' - ', 'Investidor')\n",
    "for pr, inv_id in sorted(zip(page_rank_list, node_id_list), reverse=True)[:5]:\n",
    "    print('{:.7f}   {:>10}'.format(pr, inv_id))"
   ]
  },
  {
   "cell_type": "markdown",
   "metadata": {},
   "source": [
    "#### Como você poderia usar o PageRank caso você fosse um investidor em bitcoins?  \n",
    "- R: O modelo Bitcoin pode ser representado por grafos, visto que se baseia em transações Peer to Peer. O PageRank pode ser utilizado para elaborar uma estratégia de transações para um dado investidor, por exemplo, encontrar usuários de um mercado com quem possivelmente seja mais propício trocar moedas."
   ]
  },
  {
   "cell_type": "markdown",
   "metadata": {},
   "source": [
    "notes:\n",
    "- https://www.evernote.com/Home.action?login=true#n=96a140dd-0c4f-49f0-a5f6-083037c9c75b&s=s540&ses=4&sh=2&sds=5&  \n",
    "- http://www.ams.org/publicoutreach/feature-column/fcarc-pagerank   \n",
    "- https://gephi.org/users/quick-start/   \n",
    "- https://www.youtube.com/watch?v=zv4OVNWfVt4"
   ]
  },
  {
   "cell_type": "code",
   "execution_count": null,
   "metadata": {},
   "outputs": [],
   "source": []
  }
 ],
 "metadata": {
  "kernelspec": {
   "display_name": "Python 3",
   "language": "python",
   "name": "python3"
  },
  "language_info": {
   "codemirror_mode": {
    "name": "ipython",
    "version": 3
   },
   "file_extension": ".py",
   "mimetype": "text/x-python",
   "name": "python",
   "nbconvert_exporter": "python",
   "pygments_lexer": "ipython3",
   "version": "3.5.2"
  }
 },
 "nbformat": 4,
 "nbformat_minor": 2
}
