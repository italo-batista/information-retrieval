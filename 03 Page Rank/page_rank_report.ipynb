{
 "cells": [
  {
   "cell_type": "code",
   "execution_count": 1,
   "metadata": {},
   "outputs": [],
   "source": [
    "import numpy as np\n",
    "import pandas as pd"
   ]
  },
  {
   "cell_type": "markdown",
   "metadata": {},
   "source": [
    "### Pré-processando os dados"
   ]
  },
  {
   "cell_type": "markdown",
   "metadata": {},
   "source": [
    "Carregando os dados"
   ]
  },
  {
   "cell_type": "code",
   "execution_count": 2,
   "metadata": {},
   "outputs": [],
   "source": [
    "SOURCE, TARGET, RATING, TIME = 'source', 'target', 'rating', 'time'\n",
    "\n",
    "file_path = '../data/soc-sign-bitcoinotc.csv'\n",
    "data = pd.read_csv(file_path, names=[SOURCE, TARGET, RATING, TIME ])"
   ]
  },
  {
   "cell_type": "markdown",
   "metadata": {},
   "source": [
    "Filtrando por aqueles com Rating superior ou igual a 8:"
   ]
  },
  {
   "cell_type": "code",
   "execution_count": 3,
   "metadata": {},
   "outputs": [],
   "source": [
    "data = data.loc[(data[RATING] >= 8)]"
   ]
  },
  {
   "cell_type": "markdown",
   "metadata": {},
   "source": [
    "Desconsiderando a coluna de Tempo:"
   ]
  },
  {
   "cell_type": "code",
   "execution_count": 4,
   "metadata": {},
   "outputs": [],
   "source": [
    "data = data[[SOURCE, TARGET, RATING]]"
   ]
  },
  {
   "cell_type": "markdown",
   "metadata": {},
   "source": [
    "Nossos dados têm a seguinte cara:"
   ]
  },
  {
   "cell_type": "code",
   "execution_count": 5,
   "metadata": {},
   "outputs": [
    {
     "data": {
      "text/html": [
       "<div>\n",
       "<style scoped>\n",
       "    .dataframe tbody tr th:only-of-type {\n",
       "        vertical-align: middle;\n",
       "    }\n",
       "\n",
       "    .dataframe tbody tr th {\n",
       "        vertical-align: top;\n",
       "    }\n",
       "\n",
       "    .dataframe thead th {\n",
       "        text-align: right;\n",
       "    }\n",
       "</style>\n",
       "<table border=\"1\" class=\"dataframe\">\n",
       "  <thead>\n",
       "    <tr style=\"text-align: right;\">\n",
       "      <th></th>\n",
       "      <th>source</th>\n",
       "      <th>target</th>\n",
       "      <th>rating</th>\n",
       "    </tr>\n",
       "  </thead>\n",
       "  <tbody>\n",
       "    <tr>\n",
       "      <th>4</th>\n",
       "      <td>13</td>\n",
       "      <td>16</td>\n",
       "      <td>8</td>\n",
       "    </tr>\n",
       "    <tr>\n",
       "      <th>5</th>\n",
       "      <td>13</td>\n",
       "      <td>10</td>\n",
       "      <td>8</td>\n",
       "    </tr>\n",
       "    <tr>\n",
       "      <th>10</th>\n",
       "      <td>21</td>\n",
       "      <td>1</td>\n",
       "      <td>8</td>\n",
       "    </tr>\n",
       "    <tr>\n",
       "      <th>11</th>\n",
       "      <td>21</td>\n",
       "      <td>10</td>\n",
       "      <td>8</td>\n",
       "    </tr>\n",
       "    <tr>\n",
       "      <th>12</th>\n",
       "      <td>21</td>\n",
       "      <td>8</td>\n",
       "      <td>9</td>\n",
       "    </tr>\n",
       "  </tbody>\n",
       "</table>\n",
       "</div>"
      ],
      "text/plain": [
       "    source  target  rating\n",
       "4       13      16       8\n",
       "5       13      10       8\n",
       "10      21       1       8\n",
       "11      21      10       8\n",
       "12      21       8       9"
      ]
     },
     "execution_count": 5,
     "metadata": {},
     "output_type": "execute_result"
    }
   ],
   "source": [
    "data.head()"
   ]
  },
  {
   "cell_type": "markdown",
   "metadata": {},
   "source": [
    "Guardando a informação de para quantos nós um nó aponta (essa info será usada para construir a matriz de adjacência)"
   ]
  },
  {
   "cell_type": "code",
   "execution_count": 6,
   "metadata": {},
   "outputs": [],
   "source": [
    "n_pointing_to = dict()\n",
    "for source, group_itens in data.groupby([SOURCE]):\n",
    "    n_pointing_to[source] = len(group_itens)"
   ]
  },
  {
   "cell_type": "markdown",
   "metadata": {},
   "source": [
    "Lista ordenada com todos os nós:"
   ]
  },
  {
   "cell_type": "code",
   "execution_count": 7,
   "metadata": {},
   "outputs": [],
   "source": [
    "nodes = sorted(list(set(data.source.append(data.target))))"
   ]
  },
  {
   "cell_type": "markdown",
   "metadata": {},
   "source": [
    "Construindo matrix de adjacência:"
   ]
  },
  {
   "cell_type": "code",
   "execution_count": 8,
   "metadata": {},
   "outputs": [],
   "source": [
    "adjacency_matrix = pd.DataFrame(columns=nodes)\n",
    "\n",
    "for source in nodes:\n",
    "    filtered_by_source = data.loc[(data.source == source)]\n",
    "    target_list, rating_list = filtered_by_source.target, filtered_by_source.rating\n",
    "    \n",
    "    adjacency_matrix_source_row = [0] * len(nodes)\n",
    "    for t, r in zip(target_list, rating_list):\n",
    "        target_index = nodes.index(t)\n",
    "        adjacency_matrix_source_row[target_index] = 1 / n_pointing_to[source]\n",
    "    \n",
    "    adjacency_matrix.loc[source] = adjacency_matrix_source_row\n",
    "\n",
    "adjacency_matrix = adjacency_matrix.transpose()"
   ]
  },
  {
   "cell_type": "markdown",
   "metadata": {},
   "source": [
    "### PageRank"
   ]
  },
  {
   "cell_type": "code",
   "execution_count": 9,
   "metadata": {},
   "outputs": [],
   "source": [
    "teleportation_factor = 0.15"
   ]
  },
  {
   "cell_type": "code",
   "execution_count": 10,
   "metadata": {},
   "outputs": [],
   "source": [
    "B = (teleportation_factor / len(nodes)) * np.matrix([[1] * len(nodes) for i in range(len(nodes))])"
   ]
  },
  {
   "cell_type": "code",
   "execution_count": 11,
   "metadata": {},
   "outputs": [],
   "source": [
    "M = ((1 - teleportation_factor) * adjacency_matrix.values) + B"
   ]
  },
  {
   "cell_type": "code",
   "execution_count": 12,
   "metadata": {},
   "outputs": [],
   "source": [
    "page_rank_vector = (1/len(nodes)) * np.matrix([[1] for i in range(len(nodes))])"
   ]
  },
  {
   "cell_type": "code",
   "execution_count": 13,
   "metadata": {},
   "outputs": [],
   "source": [
    "def pagerank(page_rank_vector, curr_iter):\n",
    "    \n",
    "    diff_between_iterations = sum(abs(M * page_rank_vector - page_rank_vector))\n",
    "    will_converge = diff_between_iterations < 0.001\n",
    "    \n",
    "    print('Number of currently iteration:', curr_iter)\n",
    "    print('Diff of page rank vector between iterations:', diff_between_iterations, '\\n')\n",
    "    \n",
    "    if not will_converge:\n",
    "        return pagerank(M * page_rank_vector, curr_iter + 1)\n",
    "    else:\n",
    "        print('Converged!')\n",
    "        return M * page_rank_vector"
   ]
  },
  {
   "cell_type": "code",
   "execution_count": 14,
   "metadata": {},
   "outputs": [
    {
     "name": "stdout",
     "output_type": "stream",
     "text": [
      "Number of currently iteration: 1\n",
      "Diff of page rank vector between iterations: [[0.66774917]] \n",
      "\n",
      "Number of currently iteration: 2\n",
      "Diff of page rank vector between iterations: [[0.38115283]] \n",
      "\n",
      "Number of currently iteration: 3\n",
      "Diff of page rank vector between iterations: [[0.17744513]] \n",
      "\n",
      "Number of currently iteration: 4\n",
      "Diff of page rank vector between iterations: [[0.11254746]] \n",
      "\n",
      "Number of currently iteration: 5\n",
      "Diff of page rank vector between iterations: [[0.07910257]] \n",
      "\n",
      "Number of currently iteration: 6\n",
      "Diff of page rank vector between iterations: [[0.05877311]] \n",
      "\n",
      "Number of currently iteration: 7\n",
      "Diff of page rank vector between iterations: [[0.04590417]] \n",
      "\n",
      "Number of currently iteration: 8\n",
      "Diff of page rank vector between iterations: [[0.03712659]] \n",
      "\n",
      "Number of currently iteration: 9\n",
      "Diff of page rank vector between iterations: [[0.03054642]] \n",
      "\n",
      "Number of currently iteration: 10\n",
      "Diff of page rank vector between iterations: [[0.02559546]] \n",
      "\n",
      "Number of currently iteration: 11\n",
      "Diff of page rank vector between iterations: [[0.02165326]] \n",
      "\n",
      "Number of currently iteration: 12\n",
      "Diff of page rank vector between iterations: [[0.01847184]] \n",
      "\n",
      "Number of currently iteration: 13\n",
      "Diff of page rank vector between iterations: [[0.01584005]] \n",
      "\n",
      "Number of currently iteration: 14\n",
      "Diff of page rank vector between iterations: [[0.01368385]] \n",
      "\n",
      "Number of currently iteration: 15\n",
      "Diff of page rank vector between iterations: [[0.01187917]] \n",
      "\n",
      "Number of currently iteration: 16\n",
      "Diff of page rank vector between iterations: [[0.01034569]] \n",
      "\n",
      "Number of currently iteration: 17\n",
      "Diff of page rank vector between iterations: [[0.00904789]] \n",
      "\n",
      "Number of currently iteration: 18\n",
      "Diff of page rank vector between iterations: [[0.00792301]] \n",
      "\n",
      "Number of currently iteration: 19\n",
      "Diff of page rank vector between iterations: [[0.00695411]] \n",
      "\n",
      "Number of currently iteration: 20\n",
      "Diff of page rank vector between iterations: [[0.00611166]] \n",
      "\n",
      "Number of currently iteration: 21\n",
      "Diff of page rank vector between iterations: [[0.00537932]] \n",
      "\n",
      "Number of currently iteration: 22\n",
      "Diff of page rank vector between iterations: [[0.00474104]] \n",
      "\n",
      "Number of currently iteration: 23\n",
      "Diff of page rank vector between iterations: [[0.00418213]] \n",
      "\n",
      "Number of currently iteration: 24\n",
      "Diff of page rank vector between iterations: [[0.00369406]] \n",
      "\n",
      "Number of currently iteration: 25\n",
      "Diff of page rank vector between iterations: [[0.00326426]] \n",
      "\n",
      "Number of currently iteration: 26\n",
      "Diff of page rank vector between iterations: [[0.00288831]] \n",
      "\n",
      "Number of currently iteration: 27\n",
      "Diff of page rank vector between iterations: [[0.00256105]] \n",
      "\n",
      "Number of currently iteration: 28\n",
      "Diff of page rank vector between iterations: [[0.00227152]] \n",
      "\n",
      "Number of currently iteration: 29\n",
      "Diff of page rank vector between iterations: [[0.00201635]] \n",
      "\n",
      "Number of currently iteration: 30\n",
      "Diff of page rank vector between iterations: [[0.00179009]] \n",
      "\n",
      "Number of currently iteration: 31\n",
      "Diff of page rank vector between iterations: [[0.00159021]] \n",
      "\n",
      "Number of currently iteration: 32\n",
      "Diff of page rank vector between iterations: [[0.00141281]] \n",
      "\n",
      "Number of currently iteration: 33\n",
      "Diff of page rank vector between iterations: [[0.00125579]] \n",
      "\n",
      "Number of currently iteration: 34\n",
      "Diff of page rank vector between iterations: [[0.00111633]] \n",
      "\n",
      "Number of currently iteration: 35\n",
      "Diff of page rank vector between iterations: [[0.00099272]] \n",
      "\n",
      "Converged!\n"
     ]
    }
   ],
   "source": [
    "result = pagerank(page_rank_vector, 1)"
   ]
  },
  {
   "cell_type": "markdown",
   "metadata": {},
   "source": [
    "### Exportando resultados para csv"
   ]
  },
  {
   "cell_type": "code",
   "execution_count": 15,
   "metadata": {},
   "outputs": [],
   "source": [
    "node_id_list = adjacency_matrix.index.tolist()"
   ]
  },
  {
   "cell_type": "code",
   "execution_count": 16,
   "metadata": {},
   "outputs": [],
   "source": [
    "PR_INDEX = 0\n",
    "page_rank_list = list(map(lambda list_with_pr: list_with_pr[PR_INDEX], result.tolist()))"
   ]
  },
  {
   "cell_type": "code",
   "execution_count": 17,
   "metadata": {},
   "outputs": [],
   "source": [
    "nodes_dict = {'Id': node_id_list, 'Label': node_id_list, 'Modularity Class': page_rank_list}"
   ]
  },
  {
   "cell_type": "code",
   "execution_count": 18,
   "metadata": {},
   "outputs": [],
   "source": [
    "nodes_dataframe = pd.DataFrame.from_dict(nodes_dict)"
   ]
  },
  {
   "cell_type": "code",
   "execution_count": 19,
   "metadata": {},
   "outputs": [],
   "source": [
    "nodes_dataframe.to_csv('result/nodes.csv', index=False)\n",
    "data.to_csv('result/edges.csv',  index=False)"
   ]
  },
  {
   "cell_type": "markdown",
   "metadata": {},
   "source": [
    "### Criando grafos com a ferramenta Gephi"
   ]
  },
  {
   "cell_type": "markdown",
   "metadata": {},
   "source": [
    "<img src=\"gephi_imgs/result.png\">"
   ]
  },
  {
   "cell_type": "markdown",
   "metadata": {},
   "source": [
    "### Perguntas"
   ]
  },
  {
   "cell_type": "markdown",
   "metadata": {},
   "source": [
    "#### Quantas iterações o PageRank precisou rodar até atingir convergência?\n",
    "- R: 35 iterações!"
   ]
  },
  {
   "cell_type": "markdown",
   "metadata": {},
   "source": [
    "#### Quais os 5 investidores mais importantes segundo o PageRank? Quais seus valores de PageRank?"
   ]
  },
  {
   "cell_type": "code",
   "execution_count": 20,
   "metadata": {},
   "outputs": [
    {
     "name": "stdout",
     "output_type": "stream",
     "text": [
      "PageRank  -  Investidor\n",
      "0.0001390            1\n",
      "0.0001247          202\n",
      "0.0001174          144\n",
      "0.0000928         3996\n",
      "0.0000915          361\n"
     ]
    }
   ],
   "source": [
    "print('PageRank', ' - ', 'Investidor')\n",
    "for pr, inv_id in sorted(zip(page_rank_list, node_id_list), reverse=True)[:5]:\n",
    "    print('{:.7f}   {:>10}'.format(pr, inv_id))"
   ]
  },
  {
   "cell_type": "markdown",
   "metadata": {},
   "source": [
    "#### Como você poderia usar o PageRank caso você fosse um investidor em bitcoins?  \n",
    "- R: O modelo Bitcoin pode ser representado por grafos, visto que se baseia em transações Peer to Peer. O PageRank pode ser utilizado para elaborar uma estratégia de transações para um dado investidor, por exemplo, encontrar usuários de um mercado com quem possivelmente seja mais propício trocar moedas. Se um usuário tem um pagerank maior que outros, então ele é uma melhor opção para com quem fazer uma transação. "
   ]
  }
 ],
 "metadata": {
  "kernelspec": {
   "display_name": "Python 3",
   "language": "python",
   "name": "python3"
  },
  "language_info": {
   "codemirror_mode": {
    "name": "ipython",
    "version": 3
   },
   "file_extension": ".py",
   "mimetype": "text/x-python",
   "name": "python",
   "nbconvert_exporter": "python",
   "pygments_lexer": "ipython3",
   "version": "3.5.2"
  }
 },
 "nbformat": 4,
 "nbformat_minor": 2
}
