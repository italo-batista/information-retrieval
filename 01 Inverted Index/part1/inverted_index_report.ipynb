{
 "cells": [
  {
   "cell_type": "code",
   "execution_count": 1,
   "metadata": {},
   "outputs": [],
   "source": [
    "import numpy as np\n",
    "import pandas as pd\n",
    "from textblob import TextBlob as tb\n",
    "from time import time"
   ]
  },
  {
   "cell_type": "markdown",
   "metadata": {},
   "source": [
    "### Creating constants that will be used over this report"
   ]
  },
  {
   "cell_type": "code",
   "execution_count": 2,
   "metadata": {},
   "outputs": [],
   "source": [
    "COLUMN_AXIS = 1\n",
    "FULL_REPORT_COLNAME = 'noticia'\n",
    "CONTENT_COLNAME = 'conteudo'\n",
    "TITLE_COLNAME = 'titulo'\n",
    "TOKENS_COLNAME = 'tokens'\n",
    "TERM_COLNAME = 'term'\n",
    "REPORT_ID_COLNAME = 'idNoticia'\n",
    "AND = 'AND'\n",
    "OR = 'OR'"
   ]
  },
  {
   "cell_type": "markdown",
   "metadata": {},
   "source": [
    "# Meeting data"
   ]
  },
  {
   "cell_type": "code",
   "execution_count": 3,
   "metadata": {},
   "outputs": [],
   "source": [
    "df = pd.read_csv('../../data/noticias_estadao.csv')"
   ]
  },
  {
   "cell_type": "code",
   "execution_count": 4,
   "metadata": {},
   "outputs": [
    {
     "data": {
      "text/html": [
       "<div>\n",
       "<style scoped>\n",
       "    .dataframe tbody tr th:only-of-type {\n",
       "        vertical-align: middle;\n",
       "    }\n",
       "\n",
       "    .dataframe tbody tr th {\n",
       "        vertical-align: top;\n",
       "    }\n",
       "\n",
       "    .dataframe thead th {\n",
       "        text-align: right;\n",
       "    }\n",
       "</style>\n",
       "<table border=\"1\" class=\"dataframe\">\n",
       "  <thead>\n",
       "    <tr style=\"text-align: right;\">\n",
       "      <th></th>\n",
       "      <th>titulo</th>\n",
       "      <th>conteudo</th>\n",
       "      <th>idNoticia</th>\n",
       "    </tr>\n",
       "  </thead>\n",
       "  <tbody>\n",
       "    <tr>\n",
       "      <th>0</th>\n",
       "      <td>11 dos eleitores do País são filiados a legendas</td>\n",
       "      <td>Há porém variações regionais nesse fenômeno En...</td>\n",
       "      <td>7617</td>\n",
       "    </tr>\n",
       "    <tr>\n",
       "      <th>1</th>\n",
       "      <td>11 executivos integram 1º pedido de condenação...</td>\n",
       "      <td>CURITIBA A força-tarefa da Operação Lava Jato ...</td>\n",
       "      <td>412</td>\n",
       "    </tr>\n",
       "    <tr>\n",
       "      <th>2</th>\n",
       "      <td>11 executivos integram 1º pedido de condenação...</td>\n",
       "      <td>CURITIBA A força-tarefa da Operação Lava Jato ...</td>\n",
       "      <td>415</td>\n",
       "    </tr>\n",
       "    <tr>\n",
       "      <th>3</th>\n",
       "      <td>13 de deputados do PMDB quer romper com PT</td>\n",
       "      <td>O Estado ouviu 54 dos 74 deputados do PMDB em ...</td>\n",
       "      <td>6736</td>\n",
       "    </tr>\n",
       "    <tr>\n",
       "      <th>4</th>\n",
       "      <td>2014 começou em 2007</td>\n",
       "      <td>O estudo do Estadão Dados publicado ontem sobr...</td>\n",
       "      <td>7611</td>\n",
       "    </tr>\n",
       "  </tbody>\n",
       "</table>\n",
       "</div>"
      ],
      "text/plain": [
       "                                              titulo  \\\n",
       "0   11 dos eleitores do País são filiados a legendas   \n",
       "1  11 executivos integram 1º pedido de condenação...   \n",
       "2  11 executivos integram 1º pedido de condenação...   \n",
       "3         13 de deputados do PMDB quer romper com PT   \n",
       "4                               2014 começou em 2007   \n",
       "\n",
       "                                            conteudo  idNoticia  \n",
       "0  Há porém variações regionais nesse fenômeno En...       7617  \n",
       "1  CURITIBA A força-tarefa da Operação Lava Jato ...        412  \n",
       "2  CURITIBA A força-tarefa da Operação Lava Jato ...        415  \n",
       "3  O Estado ouviu 54 dos 74 deputados do PMDB em ...       6736  \n",
       "4  O estudo do Estadão Dados publicado ontem sobr...       7611  "
      ]
     },
     "execution_count": 4,
     "metadata": {},
     "output_type": "execute_result"
    }
   ],
   "source": [
    "df.head()"
   ]
  },
  {
   "cell_type": "code",
   "execution_count": 5,
   "metadata": {},
   "outputs": [
    {
     "name": "stdout",
     "output_type": "stream",
     "text": [
      "Data has 7643 rows and 3 columns\n"
     ]
    }
   ],
   "source": [
    "print(\"Data has %d rows and %d columns\" % df.shape)"
   ]
  },
  {
   "cell_type": "markdown",
   "metadata": {},
   "source": [
    "# Concatenatin galls reports' title and content in just one column."
   ]
  },
  {
   "cell_type": "code",
   "execution_count": 6,
   "metadata": {},
   "outputs": [],
   "source": [
    "def concatenate_report(row):\n",
    "    \"\"\"Concatenate report title and content in just one column.\n",
    "        \n",
    "    Args:\n",
    "        row (:obj: pandas.Series): one row observation from a pandas.DataFrame.            \n",
    "\n",
    "    Return:\n",
    "        str: full report (content with title) in lowercase.\n",
    "    \"\"\"\n",
    "\n",
    "    full_report = row[TITLE_COLNAME] + \" \" + row[CONTENT_COLNAME]\n",
    "    return full_report.lower()"
   ]
  },
  {
   "cell_type": "code",
   "execution_count": 7,
   "metadata": {},
   "outputs": [],
   "source": [
    "df[FULL_REPORT_COLNAME] = df.apply(\n",
    "    lambda row: concatenate_report(row), axis=COLUMN_AXIS)"
   ]
  },
  {
   "cell_type": "markdown",
   "metadata": {},
   "source": [
    "Selecting just report's id and full content columns:"
   ]
  },
  {
   "cell_type": "code",
   "execution_count": 8,
   "metadata": {},
   "outputs": [],
   "source": [
    "df = df[[REPORT_ID_COLNAME, FULL_REPORT_COLNAME]]"
   ]
  },
  {
   "cell_type": "markdown",
   "metadata": {},
   "source": [
    "Dataframe now looks like:"
   ]
  },
  {
   "cell_type": "code",
   "execution_count": 9,
   "metadata": {},
   "outputs": [
    {
     "data": {
      "text/html": [
       "<div>\n",
       "<style scoped>\n",
       "    .dataframe tbody tr th:only-of-type {\n",
       "        vertical-align: middle;\n",
       "    }\n",
       "\n",
       "    .dataframe tbody tr th {\n",
       "        vertical-align: top;\n",
       "    }\n",
       "\n",
       "    .dataframe thead th {\n",
       "        text-align: right;\n",
       "    }\n",
       "</style>\n",
       "<table border=\"1\" class=\"dataframe\">\n",
       "  <thead>\n",
       "    <tr style=\"text-align: right;\">\n",
       "      <th></th>\n",
       "      <th>idNoticia</th>\n",
       "      <th>noticia</th>\n",
       "    </tr>\n",
       "  </thead>\n",
       "  <tbody>\n",
       "    <tr>\n",
       "      <th>0</th>\n",
       "      <td>7617</td>\n",
       "      <td>11 dos eleitores do país são filiados a legend...</td>\n",
       "    </tr>\n",
       "    <tr>\n",
       "      <th>1</th>\n",
       "      <td>412</td>\n",
       "      <td>11 executivos integram 1º pedido de condenação...</td>\n",
       "    </tr>\n",
       "    <tr>\n",
       "      <th>2</th>\n",
       "      <td>415</td>\n",
       "      <td>11 executivos integram 1º pedido de condenação...</td>\n",
       "    </tr>\n",
       "    <tr>\n",
       "      <th>3</th>\n",
       "      <td>6736</td>\n",
       "      <td>13 de deputados do pmdb quer romper com pt o e...</td>\n",
       "    </tr>\n",
       "    <tr>\n",
       "      <th>4</th>\n",
       "      <td>7611</td>\n",
       "      <td>2014 começou em 2007 o estudo do estadão dados...</td>\n",
       "    </tr>\n",
       "  </tbody>\n",
       "</table>\n",
       "</div>"
      ],
      "text/plain": [
       "   idNoticia                                            noticia\n",
       "0       7617  11 dos eleitores do país são filiados a legend...\n",
       "1        412  11 executivos integram 1º pedido de condenação...\n",
       "2        415  11 executivos integram 1º pedido de condenação...\n",
       "3       6736  13 de deputados do pmdb quer romper com pt o e...\n",
       "4       7611  2014 começou em 2007 o estudo do estadão dados..."
      ]
     },
     "execution_count": 9,
     "metadata": {},
     "output_type": "execute_result"
    }
   ],
   "source": [
    "df.head()"
   ]
  },
  {
   "cell_type": "markdown",
   "metadata": {},
   "source": [
    "# Tokenizing report's text and saving tokens in another column in dataframe"
   ]
  },
  {
   "cell_type": "code",
   "execution_count": 10,
   "metadata": {},
   "outputs": [],
   "source": [
    "def tokenize_text(row):\n",
    "    \"\"\"Tokenize the text content of a report given as a row from a DataFrame\n",
    "        \n",
    "    Args:\n",
    "        row (:obj: pandas.Series): one row observation from a pandas.DataFrame.            \n",
    "\n",
    "    Return:\n",
    "        set: a report content turned into a set of tokens.\n",
    "    \"\"\"    \n",
    "    \n",
    "    text_blob = tb(row[FULL_REPORT_COLNAME]) \n",
    "    m_tokens = set(text_blob.words)\n",
    "    return m_tokens"
   ]
  },
  {
   "cell_type": "code",
   "execution_count": 11,
   "metadata": {},
   "outputs": [],
   "source": [
    "df[TOKENS_COLNAME] = df.apply(\n",
    "    lambda row: tokenize_text(row), axis=COLUMN_AXIS)"
   ]
  },
  {
   "cell_type": "markdown",
   "metadata": {},
   "source": [
    "# Creating inverted index"
   ]
  },
  {
   "cell_type": "markdown",
   "metadata": {},
   "source": [
    "First, we will create a intermediate structure called unnested_tokens. This structure will save each token of a report individually, associating it to the report's id. After this step, we will group this unnested_tokens structure by tokens, getting all reports' ids where one specific token appears."
   ]
  },
  {
   "cell_type": "code",
   "execution_count": 12,
   "metadata": {},
   "outputs": [],
   "source": [
    "def unnest_tokens_report(unnested_tokens_list, row):\n",
    "    \"\"\"Given a row observation of a DataFrame to represent a report (with content,\n",
    "    tokens and id), iterate over the set of tokens and save each one as a dict with \n",
    "    token value and report id. Each dict is appended in the unnested_tokens_list\n",
    "    passed as param.\n",
    "        \n",
    "    Args:\n",
    "        unnested_tokens_list (list): list of dicts, each dict containing a token value \n",
    "            and the report id where it occured.\n",
    "        row (:obj: pandas.Series): one row observation from a pandas.DataFrame.            \n",
    "    \"\"\"  \n",
    "    \n",
    "    for token in row[TOKENS_COLNAME]:\n",
    "        new_row = {\n",
    "            TERM_COLNAME: token.strip('\\'').strip(),\n",
    "            REPORT_ID_COLNAME: row[REPORT_ID_COLNAME]}\n",
    "        unnested_tokens_list.append(new_row)"
   ]
  },
  {
   "cell_type": "code",
   "execution_count": 13,
   "metadata": {},
   "outputs": [
    {
     "name": "stdout",
     "output_type": "stream",
     "text": [
      "\n",
      "The unnested_tokens_list looks like: \n",
      "\n",
      "[{'term': 'população', 'idNoticia': 7617}, {'term': 'habitantes', 'idNoticia': 7617}, {'term': 'esse', 'idNoticia': 7617}, {'term': 'pela', 'idNoticia': 7617}, {'term': 'partido', 'idNoticia': 7617}, {'term': 'grande', 'idNoticia': 7617}, {'term': 'uma', 'idNoticia': 7617}, {'term': '16', 'idNoticia': 7617}]\n",
      "\n",
      "The 'list of dicts' format will be used to create a pandas.DataFrame:\n"
     ]
    }
   ],
   "source": [
    "unnested_tokens_list = []\n",
    "df.apply(lambda row: unnest_tokens_report(unnested_tokens_list, row), axis=COLUMN_AXIS)\n",
    "\n",
    "print(\"\\nThe unnested_tokens_list looks like: \\n\")\n",
    "print(unnested_tokens_list[:8])\n",
    "print(\"\\nThe 'list of dicts' format will be used to create a pandas.DataFrame:\")"
   ]
  },
  {
   "cell_type": "code",
   "execution_count": 14,
   "metadata": {},
   "outputs": [
    {
     "data": {
      "text/html": [
       "<div>\n",
       "<style scoped>\n",
       "    .dataframe tbody tr th:only-of-type {\n",
       "        vertical-align: middle;\n",
       "    }\n",
       "\n",
       "    .dataframe tbody tr th {\n",
       "        vertical-align: top;\n",
       "    }\n",
       "\n",
       "    .dataframe thead th {\n",
       "        text-align: right;\n",
       "    }\n",
       "</style>\n",
       "<table border=\"1\" class=\"dataframe\">\n",
       "  <thead>\n",
       "    <tr style=\"text-align: right;\">\n",
       "      <th></th>\n",
       "      <th>idNoticia</th>\n",
       "      <th>term</th>\n",
       "    </tr>\n",
       "  </thead>\n",
       "  <tbody>\n",
       "    <tr>\n",
       "      <th>0</th>\n",
       "      <td>7617</td>\n",
       "      <td>população</td>\n",
       "    </tr>\n",
       "    <tr>\n",
       "      <th>1</th>\n",
       "      <td>7617</td>\n",
       "      <td>habitantes</td>\n",
       "    </tr>\n",
       "    <tr>\n",
       "      <th>2</th>\n",
       "      <td>7617</td>\n",
       "      <td>esse</td>\n",
       "    </tr>\n",
       "    <tr>\n",
       "      <th>3</th>\n",
       "      <td>7617</td>\n",
       "      <td>pela</td>\n",
       "    </tr>\n",
       "    <tr>\n",
       "      <th>4</th>\n",
       "      <td>7617</td>\n",
       "      <td>partido</td>\n",
       "    </tr>\n",
       "    <tr>\n",
       "      <th>5</th>\n",
       "      <td>7617</td>\n",
       "      <td>grande</td>\n",
       "    </tr>\n",
       "    <tr>\n",
       "      <th>6</th>\n",
       "      <td>7617</td>\n",
       "      <td>uma</td>\n",
       "    </tr>\n",
       "    <tr>\n",
       "      <th>7</th>\n",
       "      <td>7617</td>\n",
       "      <td>16</td>\n",
       "    </tr>\n",
       "    <tr>\n",
       "      <th>8</th>\n",
       "      <td>7617</td>\n",
       "      <td>prazo</td>\n",
       "    </tr>\n",
       "    <tr>\n",
       "      <th>9</th>\n",
       "      <td>7617</td>\n",
       "      <td>partidos</td>\n",
       "    </tr>\n",
       "  </tbody>\n",
       "</table>\n",
       "</div>"
      ],
      "text/plain": [
       "   idNoticia        term\n",
       "0       7617   população\n",
       "1       7617  habitantes\n",
       "2       7617        esse\n",
       "3       7617        pela\n",
       "4       7617     partido\n",
       "5       7617      grande\n",
       "6       7617         uma\n",
       "7       7617          16\n",
       "8       7617       prazo\n",
       "9       7617    partidos"
      ]
     },
     "execution_count": 14,
     "metadata": {},
     "output_type": "execute_result"
    }
   ],
   "source": [
    "unnested_tokens_df = pd.DataFrame(unnested_tokens_list)\n",
    "unnested_tokens_df.head(10)"
   ]
  },
  {
   "cell_type": "markdown",
   "metadata": {},
   "source": [
    "### Grouping by term to create inverted index"
   ]
  },
  {
   "cell_type": "code",
   "execution_count": 15,
   "metadata": {},
   "outputs": [],
   "source": [
    "class InvertedIndexTerm:\n",
    "    \"\"\"Class for register term frequency and docs' ids in which a \n",
    "    term of a inverted index structure appears.\n",
    "    \n",
    "    Attributes:\n",
    "        term_freq (int): Quantity of docs in which term appears.\n",
    "        docs_ids (list): ids of docs in which term appears.\n",
    "    \"\"\"\n",
    "    \n",
    "    def __init__(self, term, freq, docs_ids):\n",
    "        self.term = term\n",
    "        self.freq = freq\n",
    "        self.docs_ids = sorted(list(docs_ids))\n",
    "    \n",
    "    def get_term(self):\n",
    "        return self.term\n",
    "    \n",
    "    def get_freq(self):\n",
    "        return self.freq\n",
    "    \n",
    "    def get_docs_ids(self):\n",
    "        return self.docs_ids"
   ]
  },
  {
   "cell_type": "code",
   "execution_count": 16,
   "metadata": {},
   "outputs": [],
   "source": [
    "def create_inverted_index_structure(unnested_tokens_df):\n",
    "    \"\"\"Create a inverted index structure using python dict structure.\n",
    "    \n",
    "    Args:\n",
    "        unnested_tokens_df (:obj: pandas.DataFrame): unnested tokens of texts from a set of texts.\n",
    "    \n",
    "    Return:\n",
    "        dict: keys are terms found at texts and values are lists of docs_ids where terms are found.\n",
    "    \"\"\"    \n",
    "    inverted_index = dict()\n",
    "\n",
    "    for term, group_itens in unnested_tokens_df.groupby([TERM_COLNAME]):\n",
    "\n",
    "        term_freq = len(group_itens.get_values())\n",
    "        docs_ids = set(group_itens[REPORT_ID_COLNAME])\n",
    "        inverted_index[term] = InvertedIndexTerm(term, term_freq, docs_ids)\n",
    "    \n",
    "    return inverted_index"
   ]
  },
  {
   "cell_type": "markdown",
   "metadata": {},
   "source": [
    "Creating the inverted index structure for our data:"
   ]
  },
  {
   "cell_type": "code",
   "execution_count": 17,
   "metadata": {},
   "outputs": [],
   "source": [
    "m_inverted_index = create_inverted_index_structure(unnested_tokens_df)"
   ]
  },
  {
   "cell_type": "markdown",
   "metadata": {},
   "source": [
    "## Processing Queries"
   ]
  },
  {
   "cell_type": "code",
   "execution_count": 18,
   "metadata": {},
   "outputs": [],
   "source": [
    "def is_one_term_query(query):\n",
    "    \n",
    "    empty_str, space_str = \"\", \" \"    \n",
    "    \n",
    "    if query == empty_str or query == space_str:\n",
    "        raise ValueError('You should search for a non empty string.')        \n",
    "    else:\n",
    "        return len(query.split(space_str)) == 1"
   ]
  },
  {
   "cell_type": "code",
   "execution_count": 19,
   "metadata": {},
   "outputs": [],
   "source": [
    "def get_query_operator(query):    \n",
    "    \"\"\"Get boolean query operator.\n",
    "    \n",
    "    Args:\n",
    "        query (str): query with more than one term.\n",
    "    \n",
    "    Return:\n",
    "        str: string name for the boolean query operator.\n",
    "    \"\"\"  \n",
    "    \n",
    "    if AND not in query and OR not in query:\n",
    "        raise ValueError('Thats not a valid query.')  \n",
    "    \n",
    "    return AND if AND in query else OR"
   ]
  },
  {
   "cell_type": "code",
   "execution_count": 20,
   "metadata": {},
   "outputs": [],
   "source": [
    "def lowercase_iterable_itens(iterable):\n",
    "    \"\"\"Lowercase all itens in a iterable object.\n",
    "    \n",
    "    Args:\n",
    "        iterable (list): list of str itens to lowercase.\n",
    "    \n",
    "    Return:\n",
    "        list: list with elements in lowercase.\n",
    "    \"\"\"      \n",
    "    return list(map(lambda term: term.lower(), iterable))"
   ]
  },
  {
   "cell_type": "code",
   "execution_count": 21,
   "metadata": {},
   "outputs": [],
   "source": [
    "def _intersect(list1, list2):\n",
    "    \"\"\"Found all elements that are commom to two lists.\"\"\"           \n",
    "    \n",
    "    result = []    \n",
    "    i, j = 0, 0    \n",
    "    \n",
    "    while i < len(list1) and j < len(list2):    \n",
    "        if list1[i] == list2[j]:\n",
    "            result.append(list1[i])\n",
    "            i += 1\n",
    "            j += 1        \n",
    "        else:            \n",
    "            if list1[i] < list2[j]:\n",
    "                i += 1\n",
    "            else:\n",
    "                j += 1\n",
    "    \n",
    "    return result"
   ]
  },
  {
   "cell_type": "code",
   "execution_count": 22,
   "metadata": {},
   "outputs": [],
   "source": [
    "def _union(list1, list2):\n",
    "    \"\"\"Found the union (with no repetition) of elements of two given lists.\"\"\"           \n",
    "    \n",
    "    result = []    \n",
    "    i, j = 0, 0\n",
    "    \n",
    "    while i < len(list1) and j < len(list2):    \n",
    "        if list1[i] < list2[j]:\n",
    "            result.append(list1[i])\n",
    "            i += 1      \n",
    "        elif list1[i] > list2[j]:            \n",
    "            result.append(list2[j])\n",
    "            j += 1 \n",
    "        else:\n",
    "            result.append(list1[i])\n",
    "            i += 1\n",
    "            j += 1\n",
    "\n",
    "    while i < len(list1):    \n",
    "        result.append(list1[i])\n",
    "        i += 1      \n",
    "    \n",
    "    while j < len(list2):    \n",
    "        result.append(list2[j])\n",
    "        j += 1      \n",
    "            \n",
    "    return result"
   ]
  },
  {
   "cell_type": "code",
   "execution_count": 23,
   "metadata": {},
   "outputs": [],
   "source": [
    "def sort_terms_list_per_freq(terms_list, inverted_index):\n",
    "    \"\"\"Sort list of terms to search by their frequency. Frequency of a term can be found in the InvertedIndexTerm\n",
    "    object saved in the inverted index structure to the corresponding key term.\n",
    "    \n",
    "    Args:\n",
    "        terms_list (list): list to sort.\n",
    "        inverted_index (dict): structure through which get term's frequency.\n",
    "    \n",
    "    Return:\n",
    "        list: sorted list of InvertedIndexTerm objects.\n",
    "    \"\"\"      \n",
    "    terms_obj_list = list(map(lambda term: inverted_index[term], terms_list))    \n",
    "    terms_obj_list.sort(key= lambda term: term.get_freq())\n",
    "    return terms_obj_list"
   ]
  },
  {
   "cell_type": "code",
   "execution_count": 24,
   "metadata": {},
   "outputs": [],
   "source": [
    "def _boolean_search(terms_to_search, operator, inverted_index):\n",
    "      \n",
    "    sorted_terms_per_freq = sort_terms_list_per_freq(terms_to_search, inverted_index)\n",
    "    \n",
    "    docs_ids = sorted_terms_per_freq[0].get_docs_ids()   \n",
    "    result = docs_ids\n",
    "    \n",
    "    for another_term in sorted_terms_per_freq:\n",
    "        \n",
    "        docs_ids = another_term.get_docs_ids()  \n",
    "    \n",
    "        if operator == AND:\n",
    "            result = _intersect(result, docs_ids)\n",
    "        elif operator == OR:\n",
    "            result = _union(result, docs_ids)\n",
    "            \n",
    "    return list(result)"
   ]
  },
  {
   "cell_type": "code",
   "execution_count": 25,
   "metadata": {},
   "outputs": [],
   "source": [
    "def search(query, inverted_index):\n",
    "    \n",
    "    if is_one_term_query(query):\n",
    "        term = query.lower()\n",
    "        return inverted_index[term].get_docs_ids()  \n",
    "    \n",
    "    else:    \n",
    "        operator = get_query_operator(query)\n",
    "        terms_to_search = query.split(\" \" + operator + \" \")\n",
    "        terms_to_search = lowercase_iterable_itens(terms_to_search)\n",
    "        \n",
    "        return _boolean_search(terms_to_search, operator, inverted_index)"
   ]
  },
  {
   "cell_type": "markdown",
   "metadata": {},
   "source": [
    "# Sanities checks"
   ]
  },
  {
   "cell_type": "code",
   "execution_count": 26,
   "metadata": {},
   "outputs": [],
   "source": [
    "search_result = sorted(search(\"Campina AND Grande\", m_inverted_index))\n",
    "correct_answer = sorted([1952, 4802, 1987, 6694, 5382, 1770, 2763, 1068, 5870, 2777, 1370, 2779])\n",
    "assert search_result == correct_answer"
   ]
  },
  {
   "cell_type": "markdown",
   "metadata": {},
   "source": [
    "# Tests"
   ]
  },
  {
   "cell_type": "markdown",
   "metadata": {},
   "source": [
    "### 1. debate, presidenciável (AND e OR)"
   ]
  },
  {
   "cell_type": "code",
   "execution_count": 27,
   "metadata": {},
   "outputs": [],
   "source": [
    "assert len(search(\"debate OR presidencial\", m_inverted_index)) == 1770\n",
    "assert len(search(\"debate AND presidencial\", m_inverted_index)) == 201"
   ]
  },
  {
   "cell_type": "markdown",
   "metadata": {},
   "source": [
    "### 2. presidenciáveis, corruptos (AND e OR)"
   ]
  },
  {
   "cell_type": "code",
   "execution_count": 28,
   "metadata": {},
   "outputs": [],
   "source": [
    "assert len(search(\"presidenciáveis OR corruptos\", m_inverted_index)) == 164\n",
    "assert len(search(\"presidenciáveis AND corruptos\", m_inverted_index)) == 0"
   ]
  },
  {
   "cell_type": "markdown",
   "metadata": {},
   "source": [
    "### 3. Belo, Horizonte (AND e OR)"
   ]
  },
  {
   "cell_type": "code",
   "execution_count": 29,
   "metadata": {},
   "outputs": [],
   "source": [
    "assert len(search(\"Belo OR Horizonte\", m_inverted_index)) == 331\n",
    "assert len(search(\"Belo AND Horizonte\", m_inverted_index)) == 242"
   ]
  },
  {
   "cell_type": "markdown",
   "metadata": {},
   "source": [
    "### 4. candidatos (one term query)"
   ]
  },
  {
   "cell_type": "code",
   "execution_count": 30,
   "metadata": {},
   "outputs": [
    {
     "name": "stdout",
     "output_type": "stream",
     "text": [
      "Searching for word 'candidatos' results in 1395 reports containing this word.\n"
     ]
    }
   ],
   "source": [
    "msg_out = \"Searching for word 'candidatos' results in %d reports containing this word.\"\n",
    "n_reports = len(search(\"candidatos\", m_inverted_index))\n",
    "print(msg_out % n_reports)"
   ]
  },
  {
   "cell_type": "markdown",
   "metadata": {},
   "source": [
    "# Bonus"
   ]
  },
  {
   "cell_type": "code",
   "execution_count": 31,
   "metadata": {},
   "outputs": [],
   "source": [
    "assert len(search(\"PT AND Golpe AND Inflação\", m_inverted_index)) <= min(len(search(\"PT\", m_inverted_index)), len(search(\"Golpe\", m_inverted_index)), len(search(\"Inflação\", m_inverted_index)))"
   ]
  }
 ],
 "metadata": {
  "kernelspec": {
   "display_name": "Python 3",
   "language": "python",
   "name": "python3"
  },
  "language_info": {
   "codemirror_mode": {
    "name": "ipython",
    "version": 3
   },
   "file_extension": ".py",
   "mimetype": "text/x-python",
   "name": "python",
   "nbconvert_exporter": "python",
   "pygments_lexer": "ipython3",
   "version": "3.5.2"
  }
 },
 "nbformat": 4,
 "nbformat_minor": 2
}
