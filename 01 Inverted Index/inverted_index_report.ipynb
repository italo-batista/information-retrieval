{
 "cells": [
  {
   "cell_type": "code",
   "execution_count": 179,
   "metadata": {},
   "outputs": [],
   "source": [
    "import numpy as np\n",
    "import pandas as pd\n",
    "from textblob import TextBlob as tb\n",
    "from time import time"
   ]
  },
  {
   "cell_type": "code",
   "execution_count": 180,
   "metadata": {},
   "outputs": [],
   "source": [
    "df = pd.read_csv('../data/noticias_estadao.csv')"
   ]
  },
  {
   "cell_type": "markdown",
   "metadata": {},
   "source": [
    "# Meeting data"
   ]
  },
  {
   "cell_type": "code",
   "execution_count": 181,
   "metadata": {},
   "outputs": [
    {
     "data": {
      "text/html": [
       "<div>\n",
       "<style scoped>\n",
       "    .dataframe tbody tr th:only-of-type {\n",
       "        vertical-align: middle;\n",
       "    }\n",
       "\n",
       "    .dataframe tbody tr th {\n",
       "        vertical-align: top;\n",
       "    }\n",
       "\n",
       "    .dataframe thead th {\n",
       "        text-align: right;\n",
       "    }\n",
       "</style>\n",
       "<table border=\"1\" class=\"dataframe\">\n",
       "  <thead>\n",
       "    <tr style=\"text-align: right;\">\n",
       "      <th></th>\n",
       "      <th>titulo</th>\n",
       "      <th>conteudo</th>\n",
       "      <th>idNoticia</th>\n",
       "    </tr>\n",
       "  </thead>\n",
       "  <tbody>\n",
       "    <tr>\n",
       "      <th>0</th>\n",
       "      <td>11 dos eleitores do País são filiados a legendas</td>\n",
       "      <td>Há porém variações regionais nesse fenômeno En...</td>\n",
       "      <td>7617</td>\n",
       "    </tr>\n",
       "    <tr>\n",
       "      <th>1</th>\n",
       "      <td>11 executivos integram 1º pedido de condenação...</td>\n",
       "      <td>CURITIBA A força-tarefa da Operação Lava Jato ...</td>\n",
       "      <td>412</td>\n",
       "    </tr>\n",
       "    <tr>\n",
       "      <th>2</th>\n",
       "      <td>11 executivos integram 1º pedido de condenação...</td>\n",
       "      <td>CURITIBA A força-tarefa da Operação Lava Jato ...</td>\n",
       "      <td>415</td>\n",
       "    </tr>\n",
       "    <tr>\n",
       "      <th>3</th>\n",
       "      <td>13 de deputados do PMDB quer romper com PT</td>\n",
       "      <td>O Estado ouviu 54 dos 74 deputados do PMDB em ...</td>\n",
       "      <td>6736</td>\n",
       "    </tr>\n",
       "    <tr>\n",
       "      <th>4</th>\n",
       "      <td>2014 começou em 2007</td>\n",
       "      <td>O estudo do Estadão Dados publicado ontem sobr...</td>\n",
       "      <td>7611</td>\n",
       "    </tr>\n",
       "  </tbody>\n",
       "</table>\n",
       "</div>"
      ],
      "text/plain": [
       "                                              titulo  \\\n",
       "0   11 dos eleitores do País são filiados a legendas   \n",
       "1  11 executivos integram 1º pedido de condenação...   \n",
       "2  11 executivos integram 1º pedido de condenação...   \n",
       "3         13 de deputados do PMDB quer romper com PT   \n",
       "4                               2014 começou em 2007   \n",
       "\n",
       "                                            conteudo  idNoticia  \n",
       "0  Há porém variações regionais nesse fenômeno En...       7617  \n",
       "1  CURITIBA A força-tarefa da Operação Lava Jato ...        412  \n",
       "2  CURITIBA A força-tarefa da Operação Lava Jato ...        415  \n",
       "3  O Estado ouviu 54 dos 74 deputados do PMDB em ...       6736  \n",
       "4  O estudo do Estadão Dados publicado ontem sobr...       7611  "
      ]
     },
     "execution_count": 181,
     "metadata": {},
     "output_type": "execute_result"
    }
   ],
   "source": [
    "df.head()"
   ]
  },
  {
   "cell_type": "code",
   "execution_count": 182,
   "metadata": {},
   "outputs": [
    {
     "name": "stdout",
     "output_type": "stream",
     "text": [
      "Data has 7643 rows and 3 columns\n"
     ]
    }
   ],
   "source": [
    "print(\"Data has %d rows and %d columns\" % df.shape)"
   ]
  },
  {
   "cell_type": "markdown",
   "metadata": {},
   "source": [
    "# Creating constants that will be used over this report"
   ]
  },
  {
   "cell_type": "code",
   "execution_count": 183,
   "metadata": {},
   "outputs": [],
   "source": [
    "COLUMN_AXIS = 1\n",
    "FULL_REPORT_COLNAME = 'noticia'\n",
    "CONTENT_COLNAME = 'conteudo'\n",
    "TITLE_COLNAME = 'titulo'\n",
    "TOKENS_COLNAME = 'tokens'\n",
    "TERM_COLNAME = 'term'\n",
    "REPORT_ID_COLNAME = 'idNoticia'\n",
    "AND = 'AND'\n",
    "OR = 'OR'"
   ]
  },
  {
   "cell_type": "markdown",
   "metadata": {},
   "source": [
    "# Concatenate alls reports' title and content in just one column."
   ]
  },
  {
   "cell_type": "code",
   "execution_count": 184,
   "metadata": {},
   "outputs": [],
   "source": [
    "def concatenate_report(row):\n",
    "    \"\"\"Concatenate report title and content in just one column.\n",
    "        \n",
    "        Args:\n",
    "            row (:obj: pandas.Series): one row observation from a pandas.DataFrame.            \n",
    "\n",
    "        Return:\n",
    "            str: full report (content with title) in lowercase.\n",
    "    \"\"\"\n",
    "\n",
    "    full_report = row[TITLE_COLNAME] + \" \" + row[CONTENT_COLNAME]\n",
    "    return full_report.lower()"
   ]
  },
  {
   "cell_type": "code",
   "execution_count": 185,
   "metadata": {},
   "outputs": [],
   "source": [
    "df[FULL_REPORT_COLNAME] = df.apply(\n",
    "    lambda row: concatenate_report(row), \n",
    "    axis=COLUMN_AXIS\n",
    ")"
   ]
  },
  {
   "cell_type": "markdown",
   "metadata": {},
   "source": [
    "Selecting just report's id and full content columns:"
   ]
  },
  {
   "cell_type": "code",
   "execution_count": 186,
   "metadata": {},
   "outputs": [],
   "source": [
    "df = df[[REPORT_ID_COLNAME, FULL_REPORT_COLNAME]]"
   ]
  },
  {
   "cell_type": "markdown",
   "metadata": {},
   "source": [
    "Dataframe now looks like:"
   ]
  },
  {
   "cell_type": "code",
   "execution_count": 187,
   "metadata": {},
   "outputs": [
    {
     "data": {
      "text/html": [
       "<div>\n",
       "<style scoped>\n",
       "    .dataframe tbody tr th:only-of-type {\n",
       "        vertical-align: middle;\n",
       "    }\n",
       "\n",
       "    .dataframe tbody tr th {\n",
       "        vertical-align: top;\n",
       "    }\n",
       "\n",
       "    .dataframe thead th {\n",
       "        text-align: right;\n",
       "    }\n",
       "</style>\n",
       "<table border=\"1\" class=\"dataframe\">\n",
       "  <thead>\n",
       "    <tr style=\"text-align: right;\">\n",
       "      <th></th>\n",
       "      <th>idNoticia</th>\n",
       "      <th>noticia</th>\n",
       "    </tr>\n",
       "  </thead>\n",
       "  <tbody>\n",
       "    <tr>\n",
       "      <th>0</th>\n",
       "      <td>7617</td>\n",
       "      <td>11 dos eleitores do país são filiados a legend...</td>\n",
       "    </tr>\n",
       "    <tr>\n",
       "      <th>1</th>\n",
       "      <td>412</td>\n",
       "      <td>11 executivos integram 1º pedido de condenação...</td>\n",
       "    </tr>\n",
       "    <tr>\n",
       "      <th>2</th>\n",
       "      <td>415</td>\n",
       "      <td>11 executivos integram 1º pedido de condenação...</td>\n",
       "    </tr>\n",
       "    <tr>\n",
       "      <th>3</th>\n",
       "      <td>6736</td>\n",
       "      <td>13 de deputados do pmdb quer romper com pt o e...</td>\n",
       "    </tr>\n",
       "    <tr>\n",
       "      <th>4</th>\n",
       "      <td>7611</td>\n",
       "      <td>2014 começou em 2007 o estudo do estadão dados...</td>\n",
       "    </tr>\n",
       "  </tbody>\n",
       "</table>\n",
       "</div>"
      ],
      "text/plain": [
       "   idNoticia                                            noticia\n",
       "0       7617  11 dos eleitores do país são filiados a legend...\n",
       "1        412  11 executivos integram 1º pedido de condenação...\n",
       "2        415  11 executivos integram 1º pedido de condenação...\n",
       "3       6736  13 de deputados do pmdb quer romper com pt o e...\n",
       "4       7611  2014 começou em 2007 o estudo do estadão dados..."
      ]
     },
     "execution_count": 187,
     "metadata": {},
     "output_type": "execute_result"
    }
   ],
   "source": [
    "df.head()"
   ]
  },
  {
   "cell_type": "markdown",
   "metadata": {},
   "source": [
    "# Tokenizing report's text and saving tokens in another column in dataframe"
   ]
  },
  {
   "cell_type": "code",
   "execution_count": 188,
   "metadata": {},
   "outputs": [],
   "source": [
    "def tokenize_text(row):\n",
    "    \"\"\"Tokenize the text content of a report given as a row from a DataFrame\n",
    "        \n",
    "        Args:\n",
    "            row (:obj: pandas.Series): one row observation from a pandas.DataFrame.            \n",
    "\n",
    "        Return:\n",
    "            set: a report content turned into a set of tokens.\n",
    "    \"\"\"    \n",
    "    \n",
    "    text_blob = tb(row[FULL_REPORT_COLNAME]) \n",
    "    m_tokens = set(text_blob.words)\n",
    "    return m_tokens"
   ]
  },
  {
   "cell_type": "code",
   "execution_count": 189,
   "metadata": {},
   "outputs": [],
   "source": [
    "df[TOKENS_COLNAME] = df.apply(\n",
    "    lambda row: tokenize_text(row), \n",
    "    axis=COLUMN_AXIS\n",
    ")"
   ]
  },
  {
   "cell_type": "markdown",
   "metadata": {},
   "source": [
    "# Creating inverted index"
   ]
  },
  {
   "cell_type": "markdown",
   "metadata": {},
   "source": [
    "First, we will create a intermediate structure called unnested_tokens. This structure will save each token of a report, associating it to the report's id. After this step, we will group this unnested_tokens structure by tokens, getting all reports' ids where one specific token appears."
   ]
  },
  {
   "cell_type": "code",
   "execution_count": 190,
   "metadata": {},
   "outputs": [],
   "source": [
    "def unnest_tokens_report(unnested_tokens_list, row):\n",
    "    \"\"\"Given a row observation of a DataFrame to represent a report (with content,\n",
    "    tokens and id), iterate over the set of tokens and save each one as a dict with \n",
    "    token value and report id. Each dict is appended in the unnested_tokens_list\n",
    "    passed as param.\n",
    "        \n",
    "    Args:\n",
    "        unnested_tokens_list (list): list of dicts, each dict containing a token value \n",
    "            and the report id where it occured.\n",
    "        row (:obj: pandas.Series): one row observation from a pandas.DataFrame.            \n",
    "    \"\"\"  \n",
    "    \n",
    "    for token in row[TOKENS_COLNAME]:\n",
    "        new_row = {\n",
    "            TERM_COLNAME: token.strip('\\'').strip(),\n",
    "            REPORT_ID_COLNAME: row[REPORT_ID_COLNAME]\n",
    "        }\n",
    "        unnested_tokens_list.append(new_row)"
   ]
  },
  {
   "cell_type": "code",
   "execution_count": 191,
   "metadata": {},
   "outputs": [
    {
     "name": "stdout",
     "output_type": "stream",
     "text": [
      "The unnested_tokens_list looks like: \n",
      "\n",
      "[{'idNoticia': 7617, 'term': 'maneira'}, {'idNoticia': 7617, 'term': 'vereador'}, {'idNoticia': 7617, 'term': 'filiação'}, {'idNoticia': 7617, 'term': 'médios'}, {'idNoticia': 7617, 'term': 'eleitores'}, {'idNoticia': 7617, 'term': 'dinâmica'}, {'idNoticia': 7617, 'term': 'dados'}, {'idNoticia': 7617, 'term': 'semelhante'}, {'idNoticia': 7617, 'term': 'santa'}]\n",
      "\n",
      "The 'list of dicts' format will be used to create a pandas.DataFrame:\n"
     ]
    }
   ],
   "source": [
    "unnested_tokens_list = []\n",
    "df.apply(lambda row: unnest_tokens_report(unnested_tokens_list, row), axis=COLUMN_AXIS)\n",
    "\n",
    "print(\"The unnested_tokens_list looks like: \\n\")\n",
    "print(unnested_tokens_list[:9])\n",
    "print(\"\\nThe 'list of dicts' format will be used to create a pandas.DataFrame:\")"
   ]
  },
  {
   "cell_type": "code",
   "execution_count": 192,
   "metadata": {},
   "outputs": [
    {
     "data": {
      "text/html": [
       "<div>\n",
       "<style scoped>\n",
       "    .dataframe tbody tr th:only-of-type {\n",
       "        vertical-align: middle;\n",
       "    }\n",
       "\n",
       "    .dataframe tbody tr th {\n",
       "        vertical-align: top;\n",
       "    }\n",
       "\n",
       "    .dataframe thead th {\n",
       "        text-align: right;\n",
       "    }\n",
       "</style>\n",
       "<table border=\"1\" class=\"dataframe\">\n",
       "  <thead>\n",
       "    <tr style=\"text-align: right;\">\n",
       "      <th></th>\n",
       "      <th>idNoticia</th>\n",
       "      <th>term</th>\n",
       "    </tr>\n",
       "  </thead>\n",
       "  <tbody>\n",
       "    <tr>\n",
       "      <th>0</th>\n",
       "      <td>7617</td>\n",
       "      <td>maneira</td>\n",
       "    </tr>\n",
       "    <tr>\n",
       "      <th>1</th>\n",
       "      <td>7617</td>\n",
       "      <td>vereador</td>\n",
       "    </tr>\n",
       "    <tr>\n",
       "      <th>2</th>\n",
       "      <td>7617</td>\n",
       "      <td>filiação</td>\n",
       "    </tr>\n",
       "    <tr>\n",
       "      <th>3</th>\n",
       "      <td>7617</td>\n",
       "      <td>médios</td>\n",
       "    </tr>\n",
       "    <tr>\n",
       "      <th>4</th>\n",
       "      <td>7617</td>\n",
       "      <td>eleitores</td>\n",
       "    </tr>\n",
       "    <tr>\n",
       "      <th>5</th>\n",
       "      <td>7617</td>\n",
       "      <td>dinâmica</td>\n",
       "    </tr>\n",
       "    <tr>\n",
       "      <th>6</th>\n",
       "      <td>7617</td>\n",
       "      <td>dados</td>\n",
       "    </tr>\n",
       "    <tr>\n",
       "      <th>7</th>\n",
       "      <td>7617</td>\n",
       "      <td>semelhante</td>\n",
       "    </tr>\n",
       "    <tr>\n",
       "      <th>8</th>\n",
       "      <td>7617</td>\n",
       "      <td>santa</td>\n",
       "    </tr>\n",
       "    <tr>\n",
       "      <th>9</th>\n",
       "      <td>7617</td>\n",
       "      <td>ranking</td>\n",
       "    </tr>\n",
       "  </tbody>\n",
       "</table>\n",
       "</div>"
      ],
      "text/plain": [
       "   idNoticia        term\n",
       "0       7617     maneira\n",
       "1       7617    vereador\n",
       "2       7617    filiação\n",
       "3       7617      médios\n",
       "4       7617   eleitores\n",
       "5       7617    dinâmica\n",
       "6       7617       dados\n",
       "7       7617  semelhante\n",
       "8       7617       santa\n",
       "9       7617     ranking"
      ]
     },
     "execution_count": 192,
     "metadata": {},
     "output_type": "execute_result"
    }
   ],
   "source": [
    "unnested_tokens_df = pd.DataFrame(unnested_tokens_list)\n",
    "unnested_tokens_df.head(10)"
   ]
  },
  {
   "cell_type": "markdown",
   "metadata": {},
   "source": [
    "### Grouping by term to create inverted index"
   ]
  },
  {
   "cell_type": "code",
   "execution_count": 193,
   "metadata": {},
   "outputs": [],
   "source": [
    "class InvertedIndexTerm:\n",
    "    \"\"\"Class for register term frequency and docs' ids in which a \n",
    "    term of a inverted index structure appears.\n",
    "    \n",
    "    Attributes:\n",
    "        term_freq (int): Quantity of docs in which term appears.\n",
    "        docs_ids (list): ids of docs in which term appears.\n",
    "    \"\"\"\n",
    "    \n",
    "    def __init__(self, term, freq, docs_ids):\n",
    "        self.term = term\n",
    "        self.freq = freq\n",
    "        self.docs_ids = docs_ids\n",
    "    \n",
    "    def get_term(self):\n",
    "        return self.term\n",
    "    \n",
    "    def get_freq(self):\n",
    "        return self.freq\n",
    "    \n",
    "    def get_docs_ids(self):\n",
    "        return self.docs_ids"
   ]
  },
  {
   "cell_type": "code",
   "execution_count": 194,
   "metadata": {},
   "outputs": [],
   "source": [
    "def create_inverted_index_structure(unnested_tokens_df):\n",
    "    \n",
    "    inverted_index = dict()\n",
    "\n",
    "    for term, group_itens in unnested_tokens_df.groupby([TERM_COLNAME]):\n",
    "\n",
    "        term_freq = len(group_itens.get_values())\n",
    "        docs_ids = set(group_itens[REPORT_ID_COLNAME])\n",
    "\n",
    "        inverted_index[term] = InvertedIndexTerm(term, term_freq, docs_ids)\n",
    "    \n",
    "    return inverted_index"
   ]
  },
  {
   "cell_type": "code",
   "execution_count": 195,
   "metadata": {},
   "outputs": [],
   "source": [
    "m_inverted_index = create_inverted_index_structure(unnested_tokens_df)"
   ]
  },
  {
   "cell_type": "markdown",
   "metadata": {},
   "source": [
    "## Processing Queries"
   ]
  },
  {
   "cell_type": "code",
   "execution_count": 196,
   "metadata": {},
   "outputs": [],
   "source": [
    "def is_one_term_query(query):\n",
    "    \n",
    "    empty_str, space_str = \"\", \" \"    \n",
    "    \n",
    "    if query == empty_str or query == space_str:\n",
    "        raise ValueError('You should search for a non empty string.')        \n",
    "    else:\n",
    "        return len(query.split(space_str)) == 1"
   ]
  },
  {
   "cell_type": "code",
   "execution_count": 197,
   "metadata": {},
   "outputs": [],
   "source": [
    "def get_query_operator(query):    \n",
    "    return AND if AND in query else OR"
   ]
  },
  {
   "cell_type": "code",
   "execution_count": 198,
   "metadata": {},
   "outputs": [],
   "source": [
    "def lowercase_iterable_itens(iterable):\n",
    "    return list(map(lambda term: term.lower(), iterable))"
   ]
  },
  {
   "cell_type": "code",
   "execution_count": 199,
   "metadata": {},
   "outputs": [],
   "source": [
    "def sort_terms_list_per_freq(terms, inverted_index):\n",
    "    \n",
    "    terms_obj_list = list(map(lambda term: inverted_index[term], terms))    \n",
    "    terms_obj_list.sort(key= lambda term: term.get_freq())\n",
    "    return terms_obj_list"
   ]
  },
  {
   "cell_type": "code",
   "execution_count": 200,
   "metadata": {},
   "outputs": [],
   "source": [
    "def _boolean_search(terms_to_search, operator, inverted_index):\n",
    "    \n",
    "    sorted_terms_per_freq = sort_terms_list_per_freq(terms_to_search, inverted_index)\n",
    "    \n",
    "    docs_ids = sorted_terms_per_freq[0].get_docs_ids()   \n",
    "    result = docs_ids\n",
    "    \n",
    "    for another_term in sorted_terms_per_freq:\n",
    "        \n",
    "        docs_ids = another_term.get_docs_ids()  \n",
    "    \n",
    "        if operator == AND:\n",
    "            result = result & docs_ids\n",
    "        elif operator == OR:\n",
    "            result = result | docs_ids\n",
    "            \n",
    "    return list(result)"
   ]
  },
  {
   "cell_type": "code",
   "execution_count": 221,
   "metadata": {},
   "outputs": [],
   "source": [
    "def search(query, inverted_index):\n",
    "    \n",
    "    if is_one_term_query(query):\n",
    "        term = query.lower()\n",
    "        return inverted_index[term].get_docs_ids()  \n",
    "    \n",
    "    else:    \n",
    "        operator = get_query_operator(query)\n",
    "        terms_to_search = query.split(\" \" + operator + \" \")\n",
    "        terms_to_search = lowercase_iterable_itens(terms_to_search)\n",
    "        \n",
    "        return _boolean_search(terms_to_search, operator, inverted_index)"
   ]
  },
  {
   "cell_type": "markdown",
   "metadata": {},
   "source": [
    "# Sanities checks"
   ]
  },
  {
   "cell_type": "code",
   "execution_count": 222,
   "metadata": {},
   "outputs": [],
   "source": [
    "search_result = sorted(search(\"Campina AND Grande\", m_inverted_index))\n",
    "correct_answer = sorted([1952, 4802, 1987, 6694, 5382, 1770, 2763, 1068, 5870, 2777, 1370, 2779])\n",
    "assert search_result == correct_answer"
   ]
  },
  {
   "cell_type": "markdown",
   "metadata": {},
   "source": [
    "# Tests"
   ]
  },
  {
   "cell_type": "markdown",
   "metadata": {},
   "source": [
    "### 1. debate, presidenciável (AND e OR)"
   ]
  },
  {
   "cell_type": "code",
   "execution_count": 223,
   "metadata": {},
   "outputs": [],
   "source": [
    "assert len(search(\"debate OR presidencial\", m_inverted_index)) == 1770\n",
    "assert len(search(\"debate AND presidencial\", m_inverted_index)) == 201"
   ]
  },
  {
   "cell_type": "markdown",
   "metadata": {},
   "source": [
    "### 2. presidenciáveis, corruptos (AND e OR)"
   ]
  },
  {
   "cell_type": "code",
   "execution_count": 224,
   "metadata": {},
   "outputs": [],
   "source": [
    "assert len(search(\"presidenciáveis OR corruptos\", m_inverted_index)) == 164\n",
    "assert len(search(\"presidenciáveis AND corruptos\", m_inverted_index)) == 0"
   ]
  },
  {
   "cell_type": "markdown",
   "metadata": {},
   "source": [
    "### 3. Belo, Horizonte (AND e OR)"
   ]
  },
  {
   "cell_type": "code",
   "execution_count": 225,
   "metadata": {},
   "outputs": [],
   "source": [
    "assert len(search(\"Belo OR Horizonte\", m_inverted_index)) == 331\n",
    "assert len(search(\"Belo AND Horizonte\", m_inverted_index)) == 242"
   ]
  },
  {
   "cell_type": "markdown",
   "metadata": {},
   "source": [
    "### 4. candidatos (one term query)"
   ]
  },
  {
   "cell_type": "code",
   "execution_count": 226,
   "metadata": {},
   "outputs": [
    {
     "name": "stdout",
     "output_type": "stream",
     "text": [
      "Searching for word 'candidatos' results in 1395 reports containing this word.\n"
     ]
    }
   ],
   "source": [
    "msg_out = \"Searching for word 'candidatos' results in %d reports containing this word.\"\n",
    "n_reports = len(search(\"candidatos\", m_inverted_index))\n",
    "print(msg_out % n_reports)"
   ]
  },
  {
   "cell_type": "markdown",
   "metadata": {},
   "source": [
    "# Bonus"
   ]
  },
  {
   "cell_type": "code",
   "execution_count": null,
   "metadata": {},
   "outputs": [],
   "source": [
    "# inverted_index = dict()\n",
    "\n",
    "# ROW = 0\n",
    "# for row_index in range(df.shape[ROW]):\n",
    "#     for token in df[TOKENS_COL][row_index]:\n",
    "        \n",
    "#         report_id = data.at[row_index, REPORT_ID_COLNAME]\n",
    "        \n",
    "#         if token in inverted_index:\n",
    "#             inverted_index[token].append(report_id)\n",
    "#         else:\n",
    "#             inverted_index[token] = [report_id]"
   ]
  }
 ],
 "metadata": {
  "kernelspec": {
   "display_name": "Python 3",
   "language": "python",
   "name": "python3"
  },
  "language_info": {
   "codemirror_mode": {
    "name": "ipython",
    "version": 3
   },
   "file_extension": ".py",
   "mimetype": "text/x-python",
   "name": "python",
   "nbconvert_exporter": "python",
   "pygments_lexer": "ipython3",
   "version": "3.5.2"
  }
 },
 "nbformat": 4,
 "nbformat_minor": 2
}
