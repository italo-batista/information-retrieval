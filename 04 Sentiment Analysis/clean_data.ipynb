{
 "cells": [
  {
   "cell_type": "code",
   "execution_count": 1,
   "metadata": {},
   "outputs": [],
   "source": [
    "import pandas as pd"
   ]
  },
  {
   "cell_type": "code",
   "execution_count": 2,
   "metadata": {},
   "outputs": [],
   "source": [
    "tweets = pd.read_csv(\"../data/tweets_labeled.csv\", encoding=\"utf-8\", delimiter=\"\\t\")"
   ]
  },
  {
   "cell_type": "code",
   "execution_count": 3,
   "metadata": {},
   "outputs": [
    {
     "data": {
      "text/html": [
       "<div>\n",
       "<style scoped>\n",
       "    .dataframe tbody tr th:only-of-type {\n",
       "        vertical-align: middle;\n",
       "    }\n",
       "\n",
       "    .dataframe tbody tr th {\n",
       "        vertical-align: top;\n",
       "    }\n",
       "\n",
       "    .dataframe thead th {\n",
       "        text-align: right;\n",
       "    }\n",
       "</style>\n",
       "<table border=\"1\" class=\"dataframe\">\n",
       "  <thead>\n",
       "    <tr style=\"text-align: right;\">\n",
       "      <th></th>\n",
       "      <th>id</th>\n",
       "      <th>text</th>\n",
       "      <th>sentiment</th>\n",
       "    </tr>\n",
       "  </thead>\n",
       "  <tbody>\n",
       "    <tr>\n",
       "      <th>0</th>\n",
       "      <td>1</td>\n",
       "      <td>@caprichOreality Fica assim não miga &amp;lt;3 Tud...</td>\n",
       "      <td>1.0</td>\n",
       "    </tr>\n",
       "    <tr>\n",
       "      <th>1</th>\n",
       "      <td>2</td>\n",
       "      <td>Parti me todo a descer a avenida de Gaia com o...</td>\n",
       "      <td>1.0</td>\n",
       "    </tr>\n",
       "    <tr>\n",
       "      <th>2</th>\n",
       "      <td>3</td>\n",
       "      <td>Amanhã é dia de dar um trato na palestra para ...</td>\n",
       "      <td>1.0</td>\n",
       "    </tr>\n",
       "    <tr>\n",
       "      <th>3</th>\n",
       "      <td>4</td>\n",
       "      <td>@thankovsky @patorebaichado eu também tenho :)...</td>\n",
       "      <td>1.0</td>\n",
       "    </tr>\n",
       "    <tr>\n",
       "      <th>4</th>\n",
       "      <td>5</td>\n",
       "      <td>ok. Sim. Aham. Tá. De boa. Vai lá. :) https://...</td>\n",
       "      <td>1.0</td>\n",
       "    </tr>\n",
       "  </tbody>\n",
       "</table>\n",
       "</div>"
      ],
      "text/plain": [
       "   id                                               text  sentiment\n",
       "0   1  @caprichOreality Fica assim não miga &lt;3 Tud...        1.0\n",
       "1   2  Parti me todo a descer a avenida de Gaia com o...        1.0\n",
       "2   3  Amanhã é dia de dar um trato na palestra para ...        1.0\n",
       "3   4  @thankovsky @patorebaichado eu também tenho :)...        1.0\n",
       "4   5  ok. Sim. Aham. Tá. De boa. Vai lá. :) https://...        1.0"
      ]
     },
     "execution_count": 3,
     "metadata": {},
     "output_type": "execute_result"
    }
   ],
   "source": [
    "tweets.head()"
   ]
  },
  {
   "cell_type": "code",
   "execution_count": 4,
   "metadata": {},
   "outputs": [
    {
     "data": {
      "text/plain": [
       "(57483, 3)"
      ]
     },
     "execution_count": 4,
     "metadata": {},
     "output_type": "execute_result"
    }
   ],
   "source": [
    "tweets.shape"
   ]
  },
  {
   "cell_type": "markdown",
   "metadata": {},
   "source": [
    "### Defining some constants"
   ]
  },
  {
   "cell_type": "code",
   "execution_count": 5,
   "metadata": {},
   "outputs": [],
   "source": [
    "COL_TOKENIZED_TEXT = 'tokenized_text'\n",
    "COL_TEXT = 'text'\n",
    "POSITIVE = 'positive'\n",
    "NEGATIVE = 'negative'\n",
    "COL_PREDICT = 'predict'"
   ]
  },
  {
   "cell_type": "markdown",
   "metadata": {},
   "source": [
    "## Cleaning"
   ]
  },
  {
   "cell_type": "code",
   "execution_count": 6,
   "metadata": {},
   "outputs": [],
   "source": [
    "import re\n",
    "import nltk\n",
    "\n",
    "def remove_stopwords(text):\n",
    "    stopwords = set(nltk.corpus.stopwords.words('portuguese'))\n",
    "    words = [i for i in text.split() if not i in stopwords]\n",
    "    return (\" \".join(words))\n",
    "\n",
    "def remove_links(text):\n",
    "    return re.sub(r\"http\\S+\", \"\", text)\n",
    "\n",
    "def remove_mentions(text):\n",
    "    return re.sub(r\"@\\w+\", \"\", text)\n",
    "\n",
    "def remove_special_chars(text):\n",
    "    text = re.sub(r'[^\\w\\s]', ' ', text) # remove special chars\n",
    "    text = re.sub(r\"$\\d+\\W+|\\b\\d+\\b|\\W+\\d+$\", \"\", text)\n",
    "    text_with_no_special_chars = re.sub(\"\\s+\", \" \", text) #remove all duplicated spaces\n",
    "    return text_with_no_special_chars\n",
    "\n",
    "def stemming(text):\n",
    "    stemmer = nltk.stem.RSLPStemmer()\n",
    "    words = []\n",
    "    for word in text.split():\n",
    "        words.append(stemmer.stem(word))\n",
    "    return (\" \".join(words))\n",
    "\n",
    "def standardize_text(text):\n",
    "    text = text.lower()\n",
    "    text = remove_links(text)\n",
    "    text = remove_mentions(text)\n",
    "    text = remove_stopwords(text)\n",
    "    text = remove_special_chars(text)\n",
    "    return text"
   ]
  },
  {
   "cell_type": "markdown",
   "metadata": {},
   "source": [
    "Removendo stopwords, alguns caracteres especiais, links e mentions e alterando para lowercase."
   ]
  },
  {
   "cell_type": "code",
   "execution_count": 7,
   "metadata": {},
   "outputs": [],
   "source": [
    "tweets.text = tweets.text.apply(standardize_text)"
   ]
  },
  {
   "cell_type": "markdown",
   "metadata": {},
   "source": [
    "Removendo tweets com textos iguais (ex: retweets)"
   ]
  },
  {
   "cell_type": "code",
   "execution_count": 8,
   "metadata": {},
   "outputs": [],
   "source": [
    "tweets = tweets.drop_duplicates(COL_TEXT)"
   ]
  },
  {
   "cell_type": "code",
   "execution_count": 9,
   "metadata": {},
   "outputs": [
    {
     "data": {
      "text/plain": [
       "(52760, 3)"
      ]
     },
     "execution_count": 9,
     "metadata": {},
     "output_type": "execute_result"
    }
   ],
   "source": [
    "tweets.shape"
   ]
  },
  {
   "cell_type": "code",
   "execution_count": 10,
   "metadata": {},
   "outputs": [
    {
     "data": {
      "text/html": [
       "<div>\n",
       "<style scoped>\n",
       "    .dataframe tbody tr th:only-of-type {\n",
       "        vertical-align: middle;\n",
       "    }\n",
       "\n",
       "    .dataframe tbody tr th {\n",
       "        vertical-align: top;\n",
       "    }\n",
       "\n",
       "    .dataframe thead th {\n",
       "        text-align: right;\n",
       "    }\n",
       "</style>\n",
       "<table border=\"1\" class=\"dataframe\">\n",
       "  <thead>\n",
       "    <tr style=\"text-align: right;\">\n",
       "      <th></th>\n",
       "      <th>id</th>\n",
       "      <th>text</th>\n",
       "      <th>sentiment</th>\n",
       "    </tr>\n",
       "  </thead>\n",
       "  <tbody>\n",
       "    <tr>\n",
       "      <th>0</th>\n",
       "      <td>1</td>\n",
       "      <td>fica assim miga lt tudo arranja deus quiser</td>\n",
       "      <td>1.0</td>\n",
       "    </tr>\n",
       "    <tr>\n",
       "      <th>1</th>\n",
       "      <td>2</td>\n",
       "      <td>parti todo descer avenida gaia skate</td>\n",
       "      <td>1.0</td>\n",
       "    </tr>\n",
       "    <tr>\n",
       "      <th>2</th>\n",
       "      <td>3</td>\n",
       "      <td>amanhã é dia dar trato palestra thedevconf aju...</td>\n",
       "      <td>1.0</td>\n",
       "    </tr>\n",
       "    <tr>\n",
       "      <th>3</th>\n",
       "      <td>4</td>\n",
       "      <td>posso sentar vocês</td>\n",
       "      <td>1.0</td>\n",
       "    </tr>\n",
       "    <tr>\n",
       "      <th>4</th>\n",
       "      <td>5</td>\n",
       "      <td>ok sim aham tá boa vai lá</td>\n",
       "      <td>1.0</td>\n",
       "    </tr>\n",
       "  </tbody>\n",
       "</table>\n",
       "</div>"
      ],
      "text/plain": [
       "   id                                               text  sentiment\n",
       "0   1       fica assim miga lt tudo arranja deus quiser         1.0\n",
       "1   2              parti todo descer avenida gaia skate         1.0\n",
       "2   3  amanhã é dia dar trato palestra thedevconf aju...        1.0\n",
       "3   4                                posso sentar vocês         1.0\n",
       "4   5                         ok sim aham tá boa vai lá         1.0"
      ]
     },
     "execution_count": 10,
     "metadata": {},
     "output_type": "execute_result"
    }
   ],
   "source": [
    "tweets.head()"
   ]
  },
  {
   "cell_type": "markdown",
   "metadata": {},
   "source": [
    "#### Toques finais"
   ]
  },
  {
   "cell_type": "code",
   "execution_count": 11,
   "metadata": {},
   "outputs": [],
   "source": [
    "def get_sentiment_category(sentiment_float):\n",
    "    if sentiment_float == 1.0:\n",
    "        return POSITIVE\n",
    "    else:\n",
    "        return NEGATIVE\n",
    "    \n",
    "tweets.sentiment = tweets.sentiment.apply(get_sentiment_category)"
   ]
  },
  {
   "cell_type": "markdown",
   "metadata": {},
   "source": [
    "## Creating Model"
   ]
  },
  {
   "cell_type": "code",
   "execution_count": 12,
   "metadata": {},
   "outputs": [],
   "source": [
    "from sklearn.feature_extraction.text import CountVectorizer\n",
    "from sklearn.naive_bayes import MultinomialNB\n",
    "from sklearn import metrics\n",
    "from sklearn.model_selection import cross_val_predict"
   ]
  },
  {
   "cell_type": "markdown",
   "metadata": {},
   "source": [
    "Using [scikit lib](http://scikit-learn.org/stable/modules/generated/sklearn.naive_bayes.MultinomialNB.html#sklearn.naive_bayes.MultinomialNB)"
   ]
  },
  {
   "cell_type": "code",
   "execution_count": 13,
   "metadata": {},
   "outputs": [],
   "source": [
    "tweets_texts = tweets.text.values\n",
    "classes = tweets.sentiment.values"
   ]
  },
  {
   "cell_type": "code",
   "execution_count": 14,
   "metadata": {},
   "outputs": [
    {
     "data": {
      "text/plain": [
       "MultinomialNB(alpha=1, class_prior=None, fit_prior=True)"
      ]
     },
     "execution_count": 14,
     "metadata": {},
     "output_type": "execute_result"
    }
   ],
   "source": [
    "vectorizer = CountVectorizer(analyzer=\"word\")\n",
    "#vectorizer = CountVectorizer(ngram_range = (1, 2))\n",
    "#vectorizer = CountVectorizer(analyzer = \"word\", tokenizer = None, preprocessor = None, stop_words = None, max_features = 5000)\n",
    "freq_tweets = vectorizer.fit_transform(tweets_texts)\n",
    "model = MultinomialNB(alpha=1)\n",
    "model.fit(freq_tweets, classes)"
   ]
  },
  {
   "cell_type": "markdown",
   "metadata": {},
   "source": [
    "## Testing Model"
   ]
  },
  {
   "cell_type": "markdown",
   "metadata": {},
   "source": [
    "#### Algumas verificações de sanidade.."
   ]
  },
  {
   "cell_type": "code",
   "execution_count": 15,
   "metadata": {},
   "outputs": [],
   "source": [
    "tests = [\n",
    "    'Esse governo está no início, vamos ver o que vai dar',\n",
    "    'Estou muito feliz com o governo de Minas esse ano',\n",
    "    'O estado de Minas Gerais decretou calamidade financeira!!!',\n",
    "    'A segurança desse país está deixando a desejar',\n",
    "    'O governador de Minas é do PT',\n",
    "    'Infeliz',\n",
    "    'Menino to muito doente',\n",
    "    'Lula 2018',\n",
    "    'Tô indo para Universidade']\n",
    "\n",
    "tests = list(map(standardize_text, tests))\n",
    "freq_testes = vectorizer.transform(tests)"
   ]
  },
  {
   "cell_type": "code",
   "execution_count": 16,
   "metadata": {},
   "outputs": [
    {
     "data": {
      "text/plain": [
       "array(['positive', 'positive', 'negative', 'negative', 'positive',\n",
       "       'negative', 'negative', 'positive', 'negative'], dtype='<U8')"
      ]
     },
     "execution_count": 16,
     "metadata": {},
     "output_type": "execute_result"
    }
   ],
   "source": [
    "model.predict(freq_testes)"
   ]
  },
  {
   "cell_type": "markdown",
   "metadata": {},
   "source": [
    "#### Testando com dados reais do Twitter (tweets não usados para treino)"
   ]
  },
  {
   "cell_type": "code",
   "execution_count": 17,
   "metadata": {},
   "outputs": [],
   "source": [
    "tweets_test = pd.read_csv(\"../data/tweets_test.csv\", encoding=\"utf-8\", delimiter=\"\\t\")"
   ]
  },
  {
   "cell_type": "code",
   "execution_count": 18,
   "metadata": {},
   "outputs": [
    {
     "data": {
      "text/html": [
       "<div>\n",
       "<style scoped>\n",
       "    .dataframe tbody tr th:only-of-type {\n",
       "        vertical-align: middle;\n",
       "    }\n",
       "\n",
       "    .dataframe tbody tr th {\n",
       "        vertical-align: top;\n",
       "    }\n",
       "\n",
       "    .dataframe thead th {\n",
       "        text-align: right;\n",
       "    }\n",
       "</style>\n",
       "<table border=\"1\" class=\"dataframe\">\n",
       "  <thead>\n",
       "    <tr style=\"text-align: right;\">\n",
       "      <th></th>\n",
       "      <th>text</th>\n",
       "    </tr>\n",
       "  </thead>\n",
       "  <tbody>\n",
       "    <tr>\n",
       "      <th>0</th>\n",
       "      <td>RT @prosapolitica: Quando começar o Horário El...</td>\n",
       "    </tr>\n",
       "    <tr>\n",
       "      <th>1</th>\n",
       "      <td>RT @prosapolitica: Quando começar o Horário El...</td>\n",
       "    </tr>\n",
       "    <tr>\n",
       "      <th>2</th>\n",
       "      <td>Convenções definem Dalben e Henrique do Paraís...</td>\n",
       "    </tr>\n",
       "    <tr>\n",
       "      <th>3</th>\n",
       "      <td>RT @prosapolitica: Enquete de monitoramento te...</td>\n",
       "    </tr>\n",
       "    <tr>\n",
       "      <th>4</th>\n",
       "      <td>RT @prosapolitica: Enquete de monitoramento te...</td>\n",
       "    </tr>\n",
       "  </tbody>\n",
       "</table>\n",
       "</div>"
      ],
      "text/plain": [
       "                                                text\n",
       "0  RT @prosapolitica: Quando começar o Horário El...\n",
       "1  RT @prosapolitica: Quando começar o Horário El...\n",
       "2  Convenções definem Dalben e Henrique do Paraís...\n",
       "3  RT @prosapolitica: Enquete de monitoramento te...\n",
       "4  RT @prosapolitica: Enquete de monitoramento te..."
      ]
     },
     "execution_count": 18,
     "metadata": {},
     "output_type": "execute_result"
    }
   ],
   "source": [
    "tweets_test.head()"
   ]
  },
  {
   "cell_type": "code",
   "execution_count": 19,
   "metadata": {},
   "outputs": [],
   "source": [
    "tweets_test['rawtext'] = tweets_test.text"
   ]
  },
  {
   "cell_type": "markdown",
   "metadata": {},
   "source": [
    "Retirando os tweets que são retweets (começam com 'RT'), pois no geral são tweets incompletos com palavras quebradas ao meio."
   ]
  },
  {
   "cell_type": "code",
   "execution_count": 20,
   "metadata": {},
   "outputs": [],
   "source": [
    "tweets_test = tweets_test.loc[~tweets_test[COL_TEXT].str.contains(\"RT @\")]"
   ]
  },
  {
   "cell_type": "code",
   "execution_count": 21,
   "metadata": {},
   "outputs": [
    {
     "data": {
      "text/plain": [
       "(3681, 2)"
      ]
     },
     "execution_count": 21,
     "metadata": {},
     "output_type": "execute_result"
    }
   ],
   "source": [
    "tweets_test.shape"
   ]
  },
  {
   "cell_type": "code",
   "execution_count": 22,
   "metadata": {},
   "outputs": [],
   "source": [
    "tweets_test.text = tweets_test.text.apply(standardize_text)"
   ]
  },
  {
   "cell_type": "code",
   "execution_count": 23,
   "metadata": {},
   "outputs": [
    {
     "data": {
      "text/html": [
       "<div>\n",
       "<style scoped>\n",
       "    .dataframe tbody tr th:only-of-type {\n",
       "        vertical-align: middle;\n",
       "    }\n",
       "\n",
       "    .dataframe tbody tr th {\n",
       "        vertical-align: top;\n",
       "    }\n",
       "\n",
       "    .dataframe thead th {\n",
       "        text-align: right;\n",
       "    }\n",
       "</style>\n",
       "<table border=\"1\" class=\"dataframe\">\n",
       "  <thead>\n",
       "    <tr style=\"text-align: right;\">\n",
       "      <th></th>\n",
       "      <th>text</th>\n",
       "      <th>rawtext</th>\n",
       "    </tr>\n",
       "  </thead>\n",
       "  <tbody>\n",
       "    <tr>\n",
       "      <th>2</th>\n",
       "      <td>convenções definem dalben henrique paraíso can...</td>\n",
       "      <td>Convenções definem Dalben e Henrique do Paraís...</td>\n",
       "    </tr>\n",
       "    <tr>\n",
       "      <th>6</th>\n",
       "      <td>videogame é crime coibir máximo possível apre...</td>\n",
       "      <td>\"videogame é um crime. Você tem que coibir o m...</td>\n",
       "    </tr>\n",
       "    <tr>\n",
       "      <th>7</th>\n",
       "      <td>eleitor pode usar internet pesquisar sobre can...</td>\n",
       "      <td>O eleitor pode usar a internet para pesquisar ...</td>\n",
       "    </tr>\n",
       "    <tr>\n",
       "      <th>20</th>\n",
       "      <td>rede ainda definiu sebastião carlos candidato ...</td>\n",
       "      <td>Rede ainda definiu Sebastião Carlos, como cand...</td>\n",
       "    </tr>\n",
       "    <tr>\n",
       "      <th>22</th>\n",
       "      <td>vamos informar mais debates incríveis sobre po...</td>\n",
       "      <td>Vamos nos informar mais! Debates incríveis sob...</td>\n",
       "    </tr>\n",
       "  </tbody>\n",
       "</table>\n",
       "</div>"
      ],
      "text/plain": [
       "                                                 text  \\\n",
       "2   convenções definem dalben henrique paraíso can...   \n",
       "6    videogame é crime coibir máximo possível apre...   \n",
       "7   eleitor pode usar internet pesquisar sobre can...   \n",
       "20  rede ainda definiu sebastião carlos candidato ...   \n",
       "22  vamos informar mais debates incríveis sobre po...   \n",
       "\n",
       "                                              rawtext  \n",
       "2   Convenções definem Dalben e Henrique do Paraís...  \n",
       "6   \"videogame é um crime. Você tem que coibir o m...  \n",
       "7   O eleitor pode usar a internet para pesquisar ...  \n",
       "20  Rede ainda definiu Sebastião Carlos, como cand...  \n",
       "22  Vamos nos informar mais! Debates incríveis sob...  "
      ]
     },
     "execution_count": 23,
     "metadata": {},
     "output_type": "execute_result"
    }
   ],
   "source": [
    "tweets_test.head()"
   ]
  },
  {
   "cell_type": "code",
   "execution_count": 24,
   "metadata": {},
   "outputs": [],
   "source": [
    "tweets_test = tweets_test.drop_duplicates(COL_TEXT)"
   ]
  },
  {
   "cell_type": "code",
   "execution_count": 25,
   "metadata": {},
   "outputs": [
    {
     "data": {
      "text/plain": [
       "(3470, 2)"
      ]
     },
     "execution_count": 25,
     "metadata": {},
     "output_type": "execute_result"
    }
   ],
   "source": [
    "tweets_test.shape"
   ]
  },
  {
   "cell_type": "code",
   "execution_count": 26,
   "metadata": {},
   "outputs": [],
   "source": [
    "freq_testes = vectorizer.transform(tweets_test.text)"
   ]
  },
  {
   "cell_type": "code",
   "execution_count": 27,
   "metadata": {},
   "outputs": [],
   "source": [
    "tweets_test[COL_PREDICT] = model.predict(freq_testes)"
   ]
  },
  {
   "cell_type": "code",
   "execution_count": 28,
   "metadata": {},
   "outputs": [
    {
     "name": "stdout",
     "output_type": "stream",
     "text": [
      "Examples of tweets predicted as positive...\n",
      "\n",
      "Convenções definem Dalben e Henrique do Paraíso candidatos #SegundaDetremuraSDV #Notícias #Brasil #BRNews #Política… https://t.co/9ZA52jbsgO\n",
      "---\n",
      "\"videogame é um crime. Você tem que coibir o máximo possível, não aprende nada\". Cuidado com seu voto nas eleições… https://t.co/AQiHZplAUJ\n",
      "---\n",
      "O eleitor pode usar a internet para pesquisar sobre os candidatos em sites como o da Câmara, do Senado, das assembl… https://t.co/RKdNuhk3vm\n",
      "---\n",
      "Rede ainda definiu Sebastião Carlos, como candidato ao Senado. #VGNotícias #PolíticaMT #Eleições2018 #MT #REDE… https://t.co/qW20PdUWLB\n",
      "---\n",
      "Vamos nos informar mais! Debates incríveis sobre política acontecem na #CBN. Fiquem ligados! #Eleições2018 #NoArNaCBN\n",
      "---\n",
      "Daniel Finizola realiza visita ao lado de Teresa Leitão a Camocim de São Félix. Leia no https://t.co/3g8PetzyeA… https://t.co/Qj8vJpGamR\n",
      "---\n",
      "Cacoete autoritário https://t.co/gT9OTpZd0X #PT #Eleicoes2018 #Lula #Dilma #Democracia #LavaJato\n",
      "---\n",
      "Nacional determina aliança da Democracia Cristã com Amastha; Filipe Fernandes diz que vai recorrer… https://t.co/l25rhC0J5G\n",
      "---\n",
      "Alguém sabe de algum candidato que Defenda e leve ao Congresso ou Câmara uma petição ou projeto de lei para Reduçã… https://t.co/SgytxMlIpp\n",
      "---\n",
      "#Eleições2018 Jacira Melo, diretora do Instituto Patrícia Galvão, dá um recado para as pré-candidatas e lembra que… https://t.co/7p6OfrNFRV\n",
      "---\n",
      "\n",
      "\n",
      "Examples of tweets predicted as negative...\n",
      "\n",
      "Ca­co­e­te au­to­ri­tá­rio (O Estado de S. Paulo.), 30 de jul de 2018 #Pt #Haddad #Eleicoes2018… https://t.co/uOqDSkRAXz\n",
      "---\n",
      "'livramento' @ofcjoseronaldo não teve o prazer de abraçar Bolsonaro ontem na convenção do partido PSL aqui em Feira… https://t.co/uIxvCtxomW\n",
      "---\n",
      "#Eleições2018 | #Alckmin aliado aos velhos bandidos ou bandidos velhos | #MarcoAntonioVilla não consegue mais defen… https://t.co/m4USFKztxw\n",
      "---\n",
      "@GloboNews #Eleições2018 Não perderei 1min só do meu tempo escutando as mentiras construídas à rigor ditas por esse… https://t.co/qEk5c0iljR\n",
      "---\n",
      "BRASIL ACIMA DE TUDO, DEUS ACIMA DE TODOS 🇧🇷👉🇧🇷#BolsonaroRodaViva #BolsonaroPresidente #BrasilComBolsonaro… https://t.co/GE07V9myCn\n",
      "---\n",
      "pra ficar de olho! #Eleicoes2018 https://t.co/QFaZRyHPo5\n",
      "---\n",
      "Não confio em candidatos que ameaçam com a volta da #pobreza. A pobreza é este Estado de coisas! #Eleições2018 sem #FakeNews\n",
      "---\n",
      "@Olho_Corrupcao @Jorge42931348 NADA QUE FIZERMOS ADIANTARÁ, EQTO ESTA CORJA ESTIVER NO PODER, USANDO URNAS ELETRôNI… https://t.co/Yo83NoEDvq\n",
      "---\n",
      "Agora eu tenho certeza, o que disseram de @blogdojefferson em 2.005,é vdd, q ele ficou foi chateado de não ganhar o… https://t.co/yVDGiM1Da6\n",
      "---\n",
      "Dona Roseana, o Brasil está passando por esta crise por causa do golpe de vocês. O seu amigo Temer, está entregando… https://t.co/ohjVjKyMsf\n",
      "---\n"
     ]
    }
   ],
   "source": [
    "positive_classified = tweets_test[ tweets_test[COL_PREDICT] == POSITIVE]\n",
    "negative_classified = tweets_test[ tweets_test[COL_PREDICT] == NEGATIVE]\n",
    "\n",
    "print(\"Examples of tweets predicted as positive...\\n\")\n",
    "\n",
    "for tweet in positive_classified.rawtext.head(10):\n",
    "    tweet = re.sub(\"\\s+\", \" \", tweet)\n",
    "    print(tweet)\n",
    "    print('---')\n",
    "    \n",
    "print(\"\\n\\nExamples of tweets predicted as negative...\\n\")\n",
    "\n",
    "for tweet in negative_classified.rawtext.head(10):\n",
    "    tweet = re.sub(\"\\s+\", \" \", tweet)\n",
    "    print(tweet)\n",
    "    print('---')    "
   ]
  },
  {
   "cell_type": "markdown",
   "metadata": {},
   "source": [
    "Os resultados não são muito bons porque os dados usados para treino rotularam de modo muito simplista o sentimento do tweet (se o tweet possui um ':)' ele é positivo; se possui um ':(', é negativo)."
   ]
  },
  {
   "cell_type": "markdown",
   "metadata": {},
   "source": [
    "## Evaluating Model"
   ]
  },
  {
   "cell_type": "markdown",
   "metadata": {},
   "source": [
    "A função **cross_val_predict** (validação cruzada do modelo) divide os dados do modelo em 10 partes, treina o modelo com nove e testa com uma."
   ]
  },
  {
   "cell_type": "code",
   "execution_count": 29,
   "metadata": {},
   "outputs": [],
   "source": [
    "results = cross_val_predict(model, freq_tweets, classes, cv = 10)"
   ]
  },
  {
   "cell_type": "code",
   "execution_count": 30,
   "metadata": {},
   "outputs": [
    {
     "name": "stdout",
     "output_type": "stream",
     "text": [
      "A acurácia do modelo é de 0.74\n"
     ]
    }
   ],
   "source": [
    "accuracy = metrics.accuracy_score(classes, results)\n",
    "print(\"A acurácia do modelo é de {0:.2f}\".format(accuracy))"
   ]
  },
  {
   "cell_type": "code",
   "execution_count": 31,
   "metadata": {},
   "outputs": [
    {
     "name": "stdout",
     "output_type": "stream",
     "text": [
      "             precision    recall  f1-score   support\n",
      "\n",
      "   positive       0.77      0.70      0.73     27104\n",
      "   negative       0.71      0.78      0.74     25656\n",
      "\n",
      "avg / total       0.74      0.74      0.74     52760\n",
      "\n"
     ]
    }
   ],
   "source": [
    "sentiments = [POSITIVE, NEGATIVE]\n",
    "print(metrics.classification_report(classes, results, sentiments))"
   ]
  },
  {
   "cell_type": "markdown",
   "metadata": {},
   "source": [
    "# Notes"
   ]
  },
  {
   "cell_type": "markdown",
   "metadata": {},
   "source": [
    "- Sem stemming ficou melhor\n",
    "- Melhor modelo: o com bigrams\n",
    "- https://github.com/minerandodados/mdrepo/blob/master/Notebook_AnaliseSentimentosGovernoMinas_MinerandoDados.ipynb\n",
    "- https://www.kaggle.com/leandrodoze/sentiment-analysis-in-portuguese"
   ]
  },
  {
   "cell_type": "code",
   "execution_count": null,
   "metadata": {},
   "outputs": [],
   "source": []
  },
  {
   "cell_type": "code",
   "execution_count": null,
   "metadata": {},
   "outputs": [],
   "source": []
  },
  {
   "cell_type": "code",
   "execution_count": null,
   "metadata": {},
   "outputs": [],
   "source": []
  },
  {
   "cell_type": "code",
   "execution_count": null,
   "metadata": {},
   "outputs": [],
   "source": []
  }
 ],
 "metadata": {
  "kernelspec": {
   "display_name": "Python 3",
   "language": "python",
   "name": "python3"
  },
  "language_info": {
   "codemirror_mode": {
    "name": "ipython",
    "version": 3
   },
   "file_extension": ".py",
   "mimetype": "text/x-python",
   "name": "python",
   "nbconvert_exporter": "python",
   "pygments_lexer": "ipython3",
   "version": "3.5.2"
  }
 },
 "nbformat": 4,
 "nbformat_minor": 2
}
