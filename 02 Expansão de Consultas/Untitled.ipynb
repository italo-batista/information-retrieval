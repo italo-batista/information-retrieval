{
 "cells": [
  {
   "cell_type": "code",
   "execution_count": 86,
   "metadata": {},
   "outputs": [],
   "source": [
    "import pandas as pd\n",
    "import numpy as np\n",
    "from scipy import sparse\n",
    "import nltk\n",
    "from nltk import bigrams    \n",
    "import scipy.sparse as sps\n",
    "from scipy.sparse import csr_matrix, find"
   ]
  },
  {
   "cell_type": "code",
   "execution_count": 5,
   "metadata": {
    "collapsed": true
   },
   "outputs": [],
   "source": [
    "COLUMN_AXIS = 1\n",
    "CONTENT_COLNAME = 'conteudo'\n",
    "SUBTITLE_COLNAME = 'subTitulo'\n",
    "TITLE_COLNAME = 'titulo'"
   ]
  },
  {
   "cell_type": "code",
   "execution_count": 6,
   "metadata": {},
   "outputs": [],
   "source": [
    "news = pd.read_csv(\"../data/estadao_noticias_eleicao.csv\", encoding=\"utf-8\")"
   ]
  },
  {
   "cell_type": "code",
   "execution_count": 7,
   "metadata": {},
   "outputs": [],
   "source": [
    "empty_str = \"\"\n",
    "news.titulo.fillna(empty_str, inplace=True)\n",
    "news.subTitulo.fillna(empty_str, inplace=True)\n",
    "news.conteudo.fillna(empty_str, inplace=True)"
   ]
  },
  {
   "cell_type": "code",
   "execution_count": 8,
   "metadata": {
    "collapsed": true
   },
   "outputs": [],
   "source": [
    "content = news.titulo + \" \" + news.subTitulo + \" \" + news.conteudo"
   ]
  },
  {
   "cell_type": "code",
   "execution_count": 9,
   "metadata": {
    "collapsed": true
   },
   "outputs": [],
   "source": [
    "def co_occurrence_matrix(corpus):\n",
    "    vocab = set(corpus)\n",
    "    vocab = list(vocab)\n",
    "    n = len(vocab)\n",
    "   \n",
    "    vocab_to_index = {word:i for i, word in enumerate(vocab)}\n",
    "    \n",
    "    bi_grams = list(bigrams(corpus))\n",
    "\n",
    "    bigram_freq = nltk.FreqDist(bi_grams).most_common(len(bi_grams))\n",
    "\n",
    "    I=list()\n",
    "    J=list()\n",
    "    V=list()\n",
    "    \n",
    "    for bigram in bigram_freq:\n",
    "        current = bigram[0][1]\n",
    "        previous = bigram[0][0]\n",
    "        count = bigram[1]\n",
    "\n",
    "        I.append(vocab_to_index[previous])\n",
    "        J.append(vocab_to_index[current])\n",
    "        V.append(count)\n",
    "        \n",
    "    co_occurrence_matrix = sparse.coo_matrix((V,(I,J)), shape=(n,n))\n",
    "\n",
    "    return co_occurrence_matrix, vocab_to_index"
   ]
  },
  {
   "cell_type": "code",
   "execution_count": 10,
   "metadata": {
    "collapsed": true
   },
   "outputs": [],
   "source": [
    "tokens_lists = content.apply(lambda text: text.lower().split())"
   ]
  },
  {
   "cell_type": "code",
   "execution_count": 11,
   "metadata": {
    "collapsed": true
   },
   "outputs": [],
   "source": [
    "tokens = [token for tokens_list in tokens_lists for token in tokens_list]"
   ]
  },
  {
   "cell_type": "code",
   "execution_count": 12,
   "metadata": {
    "collapsed": true
   },
   "outputs": [],
   "source": [
    "matrix, vocab_to_index = co_occurrence_matrix(tokens)"
   ]
  },
  {
   "cell_type": "code",
   "execution_count": 13,
   "metadata": {
    "collapsed": true
   },
   "outputs": [],
   "source": [
    "consultable_matrix = matrix.tocsr()"
   ]
  },
  {
   "cell_type": "code",
   "execution_count": 14,
   "metadata": {
    "collapsed": true
   },
   "outputs": [],
   "source": [
    "def consult_frequency(consultable_matrix, vocab_to_index, w1, w2):\n",
    "    return(consultable_matrix[vocab_to_index[w1], vocab_to_index[w2]])"
   ]
  },
  {
   "cell_type": "code",
   "execution_count": 15,
   "metadata": {},
   "outputs": [
    {
     "data": {
      "text/plain": [
       "3"
      ]
     },
     "execution_count": 15,
     "metadata": {},
     "output_type": "execute_result"
    }
   ],
   "source": [
    "w1 = 'poucos'\n",
    "w2 = 'recursos'\n",
    "consult_frequency(consultable_matrix, vocab_to_index, w1, w2)"
   ]
  },
  {
   "cell_type": "code",
   "execution_count": 16,
   "metadata": {},
   "outputs": [
    {
     "data": {
      "text/plain": [
       "scipy.sparse.csr.csr_matrix"
      ]
     },
     "execution_count": 16,
     "metadata": {},
     "output_type": "execute_result"
    }
   ],
   "source": [
    "type(consultable_matrix)"
   ]
  },
  {
   "cell_type": "code",
   "execution_count": 84,
   "metadata": {},
   "outputs": [
    {
     "name": "stdout",
     "output_type": "stream",
     "text": [
      "[  1   1   1   1   1   4   2   3   1   1   1   3   2  89   3   1   1   5\n",
      "   3   1  17   1  20   1   2   1   1   2   4   1   3   9   1   2   1   1\n",
      "   3   1   1   1   2   8   4   1   6   1   1   1   1   1   1   1   2   3\n",
      "   1   2   1   1   1   1 165   1   5   2   5  32   1   1   1   2   3   1\n",
      "   2   1   1   1  10   5  12  51   1   1   1   1   5   1   1   1   1   1\n",
      "   3   1   1   6   1   1   5   5   1   1   2   1   1   1   1   1   1   1\n",
      "   3   3   1   1   1   9   1   1   2   1   1   1   1   1   1   1   1   1\n",
      "   1   1   2   1  40   1   1   1   8   1   5   1 146   1   3  11   8   3\n",
      "   1  19   1   3   9   2   1  33   1   1   5   2   2   8   1   1   1  10\n",
      "  12   2   1   1   1  79   1   6   4   1   2   1   1   1   2   2   1   1\n",
      "   1   9   1   1   2   1   1 114   5   1   5   5  19   1   1   1   1   2\n",
      "   1   1   1   1   1   1   1   1   1   9   2   1   3   2   7   1   1   3\n",
      "   1  10   1   1   3   1  78   1   1   1   1   1   1   1   4   1   2   1\n",
      "   1   1  13   3  10   1  14   1   1   1   1   1]\n"
     ]
    }
   ],
   "source": [
    "print(consultable_matrix[vocab_to_index[w2]].data)"
   ]
  },
  {
   "cell_type": "code",
   "execution_count": 89,
   "metadata": {},
   "outputs": [
    {
     "name": "stdout",
     "output_type": "stream",
     "text": [
      "  (0, 24850)\t1\n",
      "  (1, 44540)\t2\n",
      "  (2, 109010)\t1\n",
      "  (3, 94941)\t1\n",
      "  (3, 113681)\t1\n",
      "  (4, 1769)\t1\n",
      "  (4, 2712)\t1\n",
      "  (4, 3560)\t11\n",
      "  (4, 12553)\t1\n",
      "  (4, 12854)\t1\n",
      "  (4, 25326)\t1\n",
      "  (4, 27350)\t1\n",
      "  (4, 29589)\t1\n",
      "  (4, 30428)\t1\n",
      "  (4, 34383)\t1\n",
      "  (4, 37831)\t1\n",
      "  (4, 41459)\t1\n",
      "  (4, 43047)\t1\n",
      "  (4, 44529)\t1\n",
      "  (4, 44540)\t8\n",
      "  (4, 45805)\t2\n",
      "  (4, 47005)\t1\n",
      "  (4, 52312)\t1\n",
      "  (4, 52898)\t1\n",
      "  (4, 68677)\t1\n",
      "  :\t:\n",
      "  (122397, 57359)\t1\n",
      "  (122397, 75934)\t1\n",
      "  (122397, 90863)\t2\n",
      "  (122397, 109010)\t1\n",
      "  (122397, 122017)\t1\n",
      "  (122398, 109010)\t1\n",
      "  (122399, 75366)\t1\n",
      "  (122400, 12457)\t1\n",
      "  (122400, 37831)\t1\n",
      "  (122400, 47005)\t1\n",
      "  (122400, 89785)\t1\n",
      "  (122401, 33741)\t1\n",
      "  (122402, 63898)\t1\n",
      "  (122402, 75934)\t1\n",
      "  (122403, 41833)\t2\n",
      "  (122403, 109010)\t1\n",
      "  (122404, 36646)\t1\n",
      "  (122404, 75366)\t1\n",
      "  (122405, 14011)\t1\n",
      "  (122405, 78185)\t1\n",
      "  (122405, 95694)\t2\n",
      "  (122406, 27828)\t1\n",
      "  (122407, 112323)\t1\n",
      "  (122408, 58468)\t1\n",
      "  (122409, 43585)\t1\n"
     ]
    }
   ],
   "source": [
    "print(consultable_matrix)"
   ]
  },
  {
   "cell_type": "code",
   "execution_count": 88,
   "metadata": {},
   "outputs": [],
   "source": [
    "indi, indj, indv = find(consultable_matrix)"
   ]
  },
  {
   "cell_type": "code",
   "execution_count": 93,
   "metadata": {},
   "outputs": [
    {
     "data": {
      "text/plain": [
       "array([ 18672,  84347, 112435,  83391,  12981,  14246,  20077,  22234,\n",
       "        25326,  29082], dtype=int32)"
      ]
     },
     "execution_count": 93,
     "metadata": {},
     "output_type": "execute_result"
    }
   ],
   "source": [
    "indi[:10]"
   ]
  },
  {
   "cell_type": "code",
   "execution_count": null,
   "metadata": {
    "collapsed": true
   },
   "outputs": [],
   "source": []
  }
 ],
 "metadata": {
  "kernelspec": {
   "display_name": "Python 3",
   "language": "python",
   "name": "python3"
  },
  "language_info": {
   "codemirror_mode": {
    "name": "ipython",
    "version": 3
   },
   "file_extension": ".py",
   "mimetype": "text/x-python",
   "name": "python",
   "nbconvert_exporter": "python",
   "pygments_lexer": "ipython3",
   "version": "3.6.2"
  }
 },
 "nbformat": 4,
 "nbformat_minor": 2
}
